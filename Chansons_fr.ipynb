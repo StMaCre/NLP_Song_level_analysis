{
  "cells": [
    {
      "cell_type": "markdown",
      "metadata": {
        "id": "view-in-github",
        "colab_type": "text"
      },
      "source": [
        "<a href=\"https://colab.research.google.com/github/StMaCre/french_song_level_analysis/blob/main/Chansons_final.ipynb\" target=\"_parent\"><img src=\"https://colab.research.google.com/assets/colab-badge.svg\" alt=\"Open In Colab\"/></a>"
      ]
    },
    {
      "cell_type": "code",
      "execution_count": null,
      "metadata": {
        "id": "1StE-sjuZoG9"
      },
      "outputs": [],
      "source": [
        "!pip install -U pip setuptools wheel\n",
        "!pip install -U spacy\n",
        "!pip install langdetect\n",
        "!python -m spacy download fr_dep_news_trf"
      ]
    },
    {
      "cell_type": "markdown",
      "metadata": {
        "id": "1TJfzlBI2mHb"
      },
      "source": [
        "# Import libraries"
      ]
    },
    {
      "cell_type": "code",
      "execution_count": 2,
      "metadata": {
        "id": "l5nMtgC71N8F"
      },
      "outputs": [],
      "source": [
        "import pandas as pd\n",
        "import numpy as np\n",
        "import re\n",
        "import spacy\n",
        "import seaborn as sns\n",
        "import matplotlib.pyplot as plt\n",
        "from nltk.stem.snowball import SnowballStemmer\n",
        "from collections import Counter"
      ]
    },
    {
      "cell_type": "code",
      "execution_count": 3,
      "metadata": {
        "id": "8pTiblkNZJYK"
      },
      "outputs": [],
      "source": [
        "#Download spacy French object\n",
        "nlp = spacy.load(\"fr_dep_news_trf\")"
      ]
    },
    {
      "cell_type": "markdown",
      "metadata": {
        "id": "jocuDMDB2xvK"
      },
      "source": [
        "# File reading and cleaning"
      ]
    },
    {
      "cell_type": "code",
      "execution_count": 4,
      "metadata": {
        "id": "hkwrJhxA10x0"
      },
      "outputs": [],
      "source": [
        "# Create the dataframe with all the songs\n",
        "df = pd.read_csv(\"final_genres.csv\", sep=\",\")\n",
        "# Drop uneeded columns\n",
        "df = df.drop(\"Unnamed: 0\", axis = 1)\n",
        "# Clean the lyrics\n",
        "df[\"text\"] = df['final'].str.replace(r\"<.*>\", '', regex=True)\n",
        "df[\"text\"] = df[\"text\"].str.replace(r\"\\d\", \" \", regex=True)\n",
        "df[\"text\"] = df[\"text\"].str.replace(r\"aa+h*a?h?|^o+h+\",\" \", regex=True)\n",
        "df[\"text\"] = df[\"text\"].str.replace(r\"\\n\", \" \", regex=True)\n",
        "df[\"text\"] = df[\"text\"].str.replace(r\"[,.?!;'´-]\", \" \", regex=True)\n",
        "df[\"text\"] = df[\"text\"].str.replace(r\"(&nbsp)\", \" \", regex=True)\n",
        "df.drop(['final'], axis=1, inplace=True)\n",
        "# Select only a small sample (unecomment if you want to test on the first few rows)\n",
        "#df = df.drop(df.index[6:])"
      ]
    },
    {
      "cell_type": "code",
      "execution_count": 7,
      "metadata": {
        "colab": {
          "base_uri": "https://localhost:8080/",
          "height": 762
        },
        "id": "27Zvttrb7csT",
        "outputId": "5ec73856-6716-41d9-d85c-34582686a49e"
      },
      "outputs": [
        {
          "output_type": "execute_result",
          "data": {
            "text/plain": [
              "      index           artist                                   title  \\\n",
              "0         0    Willy William                              Ego lyrics   \n",
              "1         1           Indila                   Dernière danse lyrics   \n",
              "2         2              Zaz                          Je veux lyrics   \n",
              "3         3      Carla Bruni                Quelqu'un m'a dit lyrics   \n",
              "4         4          Stromae                       Formidable lyrics   \n",
              "...     ...              ...                                     ...   \n",
              "4877   4995               L5                      Deconnecter lyrics   \n",
              "4878   4996   Francis Cabrel             Le temps s'en allait lyrics   \n",
              "4879   4997       Édith Piaf  C'est lui que mon cœur a choisi lyrics   \n",
              "4880   4998  Tereza Kesovija           Quand j'irai vers l'or lyrics   \n",
              "4881   4999           Alizée             L'e-mail a des ailes lyrics   \n",
              "\n",
              "                                          album                  genre  \\\n",
              "0              Album: Une seule vie (Collector)                electro   \n",
              "1                      Album: Mini World (2014)                    pop   \n",
              "2                             Album: Zaz (2010)                    pop   \n",
              "3               Album: Quelqu'un m'a dit (2002)  pop,chanson francaise   \n",
              "4                          Racine carrée (2013)            pop,electro   \n",
              "...                                         ...                    ...   \n",
              "4877                                        NaN                    pop   \n",
              "4878                                        NaN  pop,chanson francaise   \n",
              "4879                                        NaN      chanson francaise   \n",
              "4880                                        NaN                    NaN   \n",
              "4881  Album: Mes courants électriques... (2003)  pop,chanson francaise   \n",
              "\n",
              "                                                   text  \n",
              "0     Miroir  Dis moi qui est le plus beau  Quitte à...  \n",
              "1     Oh ma douce souffrance   Pourquoi s’acharner t...  \n",
              "2     Donnez moi une suite au Ritz  je n en veux pas...  \n",
              "3     On me dit que nos vies ne valent pas grand cho...  \n",
              "4     Tu étais formidable  j étais fort minable Nous...  \n",
              "...                                                 ...  \n",
              "4877  Est ce qu il faut que je signe de longs contra...  \n",
              "4878  Ce matin j ai joué aux billes  J ai couru les ...  \n",
              "4879  Je m rappelle plus comment on s était rencontr...  \n",
              "4880  Y aura des poissons d argents plein les rivièr...  \n",
              "4881  Tout est écrit  Mais ma vie est l unique  C es...  \n",
              "\n",
              "[4882 rows x 6 columns]"
            ],
            "text/html": [
              "\n",
              "  <div id=\"df-914a86d9-e63e-4bea-89fd-d2f63629b4c3\">\n",
              "    <div class=\"colab-df-container\">\n",
              "      <div>\n",
              "<style scoped>\n",
              "    .dataframe tbody tr th:only-of-type {\n",
              "        vertical-align: middle;\n",
              "    }\n",
              "\n",
              "    .dataframe tbody tr th {\n",
              "        vertical-align: top;\n",
              "    }\n",
              "\n",
              "    .dataframe thead th {\n",
              "        text-align: right;\n",
              "    }\n",
              "</style>\n",
              "<table border=\"1\" class=\"dataframe\">\n",
              "  <thead>\n",
              "    <tr style=\"text-align: right;\">\n",
              "      <th></th>\n",
              "      <th>index</th>\n",
              "      <th>artist</th>\n",
              "      <th>title</th>\n",
              "      <th>album</th>\n",
              "      <th>genre</th>\n",
              "      <th>text</th>\n",
              "    </tr>\n",
              "  </thead>\n",
              "  <tbody>\n",
              "    <tr>\n",
              "      <th>0</th>\n",
              "      <td>0</td>\n",
              "      <td>Willy William</td>\n",
              "      <td>Ego lyrics</td>\n",
              "      <td>Album: Une seule vie (Collector)</td>\n",
              "      <td>electro</td>\n",
              "      <td>Miroir  Dis moi qui est le plus beau  Quitte à...</td>\n",
              "    </tr>\n",
              "    <tr>\n",
              "      <th>1</th>\n",
              "      <td>1</td>\n",
              "      <td>Indila</td>\n",
              "      <td>Dernière danse lyrics</td>\n",
              "      <td>Album: Mini World (2014)</td>\n",
              "      <td>pop</td>\n",
              "      <td>Oh ma douce souffrance   Pourquoi s’acharner t...</td>\n",
              "    </tr>\n",
              "    <tr>\n",
              "      <th>2</th>\n",
              "      <td>2</td>\n",
              "      <td>Zaz</td>\n",
              "      <td>Je veux lyrics</td>\n",
              "      <td>Album: Zaz (2010)</td>\n",
              "      <td>pop</td>\n",
              "      <td>Donnez moi une suite au Ritz  je n en veux pas...</td>\n",
              "    </tr>\n",
              "    <tr>\n",
              "      <th>3</th>\n",
              "      <td>3</td>\n",
              "      <td>Carla Bruni</td>\n",
              "      <td>Quelqu'un m'a dit lyrics</td>\n",
              "      <td>Album: Quelqu'un m'a dit (2002)</td>\n",
              "      <td>pop,chanson francaise</td>\n",
              "      <td>On me dit que nos vies ne valent pas grand cho...</td>\n",
              "    </tr>\n",
              "    <tr>\n",
              "      <th>4</th>\n",
              "      <td>4</td>\n",
              "      <td>Stromae</td>\n",
              "      <td>Formidable lyrics</td>\n",
              "      <td>Racine carrée (2013)</td>\n",
              "      <td>pop,electro</td>\n",
              "      <td>Tu étais formidable  j étais fort minable Nous...</td>\n",
              "    </tr>\n",
              "    <tr>\n",
              "      <th>...</th>\n",
              "      <td>...</td>\n",
              "      <td>...</td>\n",
              "      <td>...</td>\n",
              "      <td>...</td>\n",
              "      <td>...</td>\n",
              "      <td>...</td>\n",
              "    </tr>\n",
              "    <tr>\n",
              "      <th>4877</th>\n",
              "      <td>4995</td>\n",
              "      <td>L5</td>\n",
              "      <td>Deconnecter lyrics</td>\n",
              "      <td>NaN</td>\n",
              "      <td>pop</td>\n",
              "      <td>Est ce qu il faut que je signe de longs contra...</td>\n",
              "    </tr>\n",
              "    <tr>\n",
              "      <th>4878</th>\n",
              "      <td>4996</td>\n",
              "      <td>Francis Cabrel</td>\n",
              "      <td>Le temps s'en allait lyrics</td>\n",
              "      <td>NaN</td>\n",
              "      <td>pop,chanson francaise</td>\n",
              "      <td>Ce matin j ai joué aux billes  J ai couru les ...</td>\n",
              "    </tr>\n",
              "    <tr>\n",
              "      <th>4879</th>\n",
              "      <td>4997</td>\n",
              "      <td>Édith Piaf</td>\n",
              "      <td>C'est lui que mon cœur a choisi lyrics</td>\n",
              "      <td>NaN</td>\n",
              "      <td>chanson francaise</td>\n",
              "      <td>Je m rappelle plus comment on s était rencontr...</td>\n",
              "    </tr>\n",
              "    <tr>\n",
              "      <th>4880</th>\n",
              "      <td>4998</td>\n",
              "      <td>Tereza Kesovija</td>\n",
              "      <td>Quand j'irai vers l'or lyrics</td>\n",
              "      <td>NaN</td>\n",
              "      <td>NaN</td>\n",
              "      <td>Y aura des poissons d argents plein les rivièr...</td>\n",
              "    </tr>\n",
              "    <tr>\n",
              "      <th>4881</th>\n",
              "      <td>4999</td>\n",
              "      <td>Alizée</td>\n",
              "      <td>L'e-mail a des ailes lyrics</td>\n",
              "      <td>Album: Mes courants électriques... (2003)</td>\n",
              "      <td>pop,chanson francaise</td>\n",
              "      <td>Tout est écrit  Mais ma vie est l unique  C es...</td>\n",
              "    </tr>\n",
              "  </tbody>\n",
              "</table>\n",
              "<p>4882 rows × 6 columns</p>\n",
              "</div>\n",
              "      <button class=\"colab-df-convert\" onclick=\"convertToInteractive('df-914a86d9-e63e-4bea-89fd-d2f63629b4c3')\"\n",
              "              title=\"Convert this dataframe to an interactive table.\"\n",
              "              style=\"display:none;\">\n",
              "        \n",
              "  <svg xmlns=\"http://www.w3.org/2000/svg\" height=\"24px\"viewBox=\"0 0 24 24\"\n",
              "       width=\"24px\">\n",
              "    <path d=\"M0 0h24v24H0V0z\" fill=\"none\"/>\n",
              "    <path d=\"M18.56 5.44l.94 2.06.94-2.06 2.06-.94-2.06-.94-.94-2.06-.94 2.06-2.06.94zm-11 1L8.5 8.5l.94-2.06 2.06-.94-2.06-.94L8.5 2.5l-.94 2.06-2.06.94zm10 10l.94 2.06.94-2.06 2.06-.94-2.06-.94-.94-2.06-.94 2.06-2.06.94z\"/><path d=\"M17.41 7.96l-1.37-1.37c-.4-.4-.92-.59-1.43-.59-.52 0-1.04.2-1.43.59L10.3 9.45l-7.72 7.72c-.78.78-.78 2.05 0 2.83L4 21.41c.39.39.9.59 1.41.59.51 0 1.02-.2 1.41-.59l7.78-7.78 2.81-2.81c.8-.78.8-2.07 0-2.86zM5.41 20L4 18.59l7.72-7.72 1.47 1.35L5.41 20z\"/>\n",
              "  </svg>\n",
              "      </button>\n",
              "      \n",
              "  <style>\n",
              "    .colab-df-container {\n",
              "      display:flex;\n",
              "      flex-wrap:wrap;\n",
              "      gap: 12px;\n",
              "    }\n",
              "\n",
              "    .colab-df-convert {\n",
              "      background-color: #E8F0FE;\n",
              "      border: none;\n",
              "      border-radius: 50%;\n",
              "      cursor: pointer;\n",
              "      display: none;\n",
              "      fill: #1967D2;\n",
              "      height: 32px;\n",
              "      padding: 0 0 0 0;\n",
              "      width: 32px;\n",
              "    }\n",
              "\n",
              "    .colab-df-convert:hover {\n",
              "      background-color: #E2EBFA;\n",
              "      box-shadow: 0px 1px 2px rgba(60, 64, 67, 0.3), 0px 1px 3px 1px rgba(60, 64, 67, 0.15);\n",
              "      fill: #174EA6;\n",
              "    }\n",
              "\n",
              "    [theme=dark] .colab-df-convert {\n",
              "      background-color: #3B4455;\n",
              "      fill: #D2E3FC;\n",
              "    }\n",
              "\n",
              "    [theme=dark] .colab-df-convert:hover {\n",
              "      background-color: #434B5C;\n",
              "      box-shadow: 0px 1px 3px 1px rgba(0, 0, 0, 0.15);\n",
              "      filter: drop-shadow(0px 1px 2px rgba(0, 0, 0, 0.3));\n",
              "      fill: #FFFFFF;\n",
              "    }\n",
              "  </style>\n",
              "\n",
              "      <script>\n",
              "        const buttonEl =\n",
              "          document.querySelector('#df-914a86d9-e63e-4bea-89fd-d2f63629b4c3 button.colab-df-convert');\n",
              "        buttonEl.style.display =\n",
              "          google.colab.kernel.accessAllowed ? 'block' : 'none';\n",
              "\n",
              "        async function convertToInteractive(key) {\n",
              "          const element = document.querySelector('#df-914a86d9-e63e-4bea-89fd-d2f63629b4c3');\n",
              "          const dataTable =\n",
              "            await google.colab.kernel.invokeFunction('convertToInteractive',\n",
              "                                                     [key], {});\n",
              "          if (!dataTable) return;\n",
              "\n",
              "          const docLinkHtml = 'Like what you see? Visit the ' +\n",
              "            '<a target=\"_blank\" href=https://colab.research.google.com/notebooks/data_table.ipynb>data table notebook</a>'\n",
              "            + ' to learn more about interactive tables.';\n",
              "          element.innerHTML = '';\n",
              "          dataTable['output_type'] = 'display_data';\n",
              "          await google.colab.output.renderOutput(dataTable, element);\n",
              "          const docLink = document.createElement('div');\n",
              "          docLink.innerHTML = docLinkHtml;\n",
              "          element.appendChild(docLink);\n",
              "        }\n",
              "      </script>\n",
              "    </div>\n",
              "  </div>\n",
              "  "
            ]
          },
          "metadata": {},
          "execution_count": 7
        }
      ],
      "source": [
        "df"
      ]
    },
    {
      "cell_type": "markdown",
      "metadata": {
        "id": "fbpVKNID3w2M"
      },
      "source": [
        "# Getting rid of songs that are not in French"
      ]
    },
    {
      "cell_type": "code",
      "execution_count": 8,
      "metadata": {
        "id": "XGtozcqddBPZ"
      },
      "outputs": [],
      "source": [
        "# Recognize language of the songs \n",
        "from langdetect import DetectorFactory, detect\n",
        "from langdetect.lang_detect_exception import LangDetectException"
      ]
    },
    {
      "cell_type": "code",
      "execution_count": 9,
      "metadata": {
        "id": "9cxa0Svqpqhv"
      },
      "outputs": [],
      "source": [
        "# Check wether the text is in French or not return True/False\n",
        "def is_french(text):\n",
        "    try:\n",
        "        if detect(text) != \"fr\":\n",
        "            return False\n",
        "    except TypeError:\n",
        "      return 'Error'\n",
        "    except LangDetectException:\n",
        "        return False\n",
        "    return True"
      ]
    },
    {
      "cell_type": "code",
      "execution_count": 10,
      "metadata": {
        "id": "JbYFFrrHmb1x"
      },
      "outputs": [],
      "source": [
        "# Add a column which note if the song is in French or not\n",
        "df['french'] = df['text'].apply(is_french)\n",
        "# Drop the songs that are not \n",
        "df.drop(df[df[\"french\"] == False].index, inplace=True)"
      ]
    },
    {
      "cell_type": "code",
      "source": [
        "df = df.drop(['french'], axis=1)"
      ],
      "metadata": {
        "id": "qr8fbfkQ2RRz"
      },
      "execution_count": 11,
      "outputs": []
    },
    {
      "cell_type": "markdown",
      "source": [
        "# Adding the word count \n",
        "This will help us to get the percentage of words of a certain level in a song. \n",
        "As well, it would be interesting to know which genre has the longest kind of songs. "
      ],
      "metadata": {
        "id": "txSr7bCZ1d14"
      }
    },
    {
      "cell_type": "code",
      "source": [
        "def count_words(text):\n",
        "  return len(str(text).split())"
      ],
      "metadata": {
        "id": "rZ1yNNuJ15xq"
      },
      "execution_count": 12,
      "outputs": []
    },
    {
      "cell_type": "code",
      "source": [
        "df['word_count'] = df['text'].apply(count_words)"
      ],
      "metadata": {
        "id": "HwrNYkr_8V-g"
      },
      "execution_count": 13,
      "outputs": []
    },
    {
      "cell_type": "code",
      "execution_count": 14,
      "metadata": {
        "id": "5Tn-dGNScpUA",
        "colab": {
          "base_uri": "https://localhost:8080/",
          "height": 901
        },
        "outputId": "afe604ea-de2f-4a62-f487-2686028f9c93"
      },
      "outputs": [
        {
          "output_type": "execute_result",
          "data": {
            "text/plain": [
              "      index           artist                                   title  \\\n",
              "0         0    Willy William                              Ego lyrics   \n",
              "1         1           Indila                   Dernière danse lyrics   \n",
              "2         2              Zaz                          Je veux lyrics   \n",
              "3         3      Carla Bruni                Quelqu'un m'a dit lyrics   \n",
              "4         4          Stromae                       Formidable lyrics   \n",
              "...     ...              ...                                     ...   \n",
              "4877   4995               L5                      Deconnecter lyrics   \n",
              "4878   4996   Francis Cabrel             Le temps s'en allait lyrics   \n",
              "4879   4997       Édith Piaf  C'est lui que mon cœur a choisi lyrics   \n",
              "4880   4998  Tereza Kesovija           Quand j'irai vers l'or lyrics   \n",
              "4881   4999           Alizée             L'e-mail a des ailes lyrics   \n",
              "\n",
              "                                          album                  genre  \\\n",
              "0              Album: Une seule vie (Collector)                electro   \n",
              "1                      Album: Mini World (2014)                    pop   \n",
              "2                             Album: Zaz (2010)                    pop   \n",
              "3               Album: Quelqu'un m'a dit (2002)  pop,chanson francaise   \n",
              "4                          Racine carrée (2013)            pop,electro   \n",
              "...                                         ...                    ...   \n",
              "4877                                        NaN                    pop   \n",
              "4878                                        NaN  pop,chanson francaise   \n",
              "4879                                        NaN      chanson francaise   \n",
              "4880                                        NaN                    NaN   \n",
              "4881  Album: Mes courants électriques... (2003)  pop,chanson francaise   \n",
              "\n",
              "                                                   text  word_count  \n",
              "0     Miroir  Dis moi qui est le plus beau  Quitte à...         174  \n",
              "1     Oh ma douce souffrance   Pourquoi s’acharner t...         266  \n",
              "2     Donnez moi une suite au Ritz  je n en veux pas...         211  \n",
              "3     On me dit que nos vies ne valent pas grand cho...         198  \n",
              "4     Tu étais formidable  j étais fort minable Nous...         313  \n",
              "...                                                 ...         ...  \n",
              "4877  Est ce qu il faut que je signe de longs contra...         228  \n",
              "4878  Ce matin j ai joué aux billes  J ai couru les ...         371  \n",
              "4879  Je m rappelle plus comment on s était rencontr...         347  \n",
              "4880  Y aura des poissons d argents plein les rivièr...         302  \n",
              "4881  Tout est écrit  Mais ma vie est l unique  C es...         124  \n",
              "\n",
              "[4789 rows x 7 columns]"
            ],
            "text/html": [
              "\n",
              "  <div id=\"df-b06c07de-490b-4d6c-80ff-759cf32037a2\">\n",
              "    <div class=\"colab-df-container\">\n",
              "      <div>\n",
              "<style scoped>\n",
              "    .dataframe tbody tr th:only-of-type {\n",
              "        vertical-align: middle;\n",
              "    }\n",
              "\n",
              "    .dataframe tbody tr th {\n",
              "        vertical-align: top;\n",
              "    }\n",
              "\n",
              "    .dataframe thead th {\n",
              "        text-align: right;\n",
              "    }\n",
              "</style>\n",
              "<table border=\"1\" class=\"dataframe\">\n",
              "  <thead>\n",
              "    <tr style=\"text-align: right;\">\n",
              "      <th></th>\n",
              "      <th>index</th>\n",
              "      <th>artist</th>\n",
              "      <th>title</th>\n",
              "      <th>album</th>\n",
              "      <th>genre</th>\n",
              "      <th>text</th>\n",
              "      <th>word_count</th>\n",
              "    </tr>\n",
              "  </thead>\n",
              "  <tbody>\n",
              "    <tr>\n",
              "      <th>0</th>\n",
              "      <td>0</td>\n",
              "      <td>Willy William</td>\n",
              "      <td>Ego lyrics</td>\n",
              "      <td>Album: Une seule vie (Collector)</td>\n",
              "      <td>electro</td>\n",
              "      <td>Miroir  Dis moi qui est le plus beau  Quitte à...</td>\n",
              "      <td>174</td>\n",
              "    </tr>\n",
              "    <tr>\n",
              "      <th>1</th>\n",
              "      <td>1</td>\n",
              "      <td>Indila</td>\n",
              "      <td>Dernière danse lyrics</td>\n",
              "      <td>Album: Mini World (2014)</td>\n",
              "      <td>pop</td>\n",
              "      <td>Oh ma douce souffrance   Pourquoi s’acharner t...</td>\n",
              "      <td>266</td>\n",
              "    </tr>\n",
              "    <tr>\n",
              "      <th>2</th>\n",
              "      <td>2</td>\n",
              "      <td>Zaz</td>\n",
              "      <td>Je veux lyrics</td>\n",
              "      <td>Album: Zaz (2010)</td>\n",
              "      <td>pop</td>\n",
              "      <td>Donnez moi une suite au Ritz  je n en veux pas...</td>\n",
              "      <td>211</td>\n",
              "    </tr>\n",
              "    <tr>\n",
              "      <th>3</th>\n",
              "      <td>3</td>\n",
              "      <td>Carla Bruni</td>\n",
              "      <td>Quelqu'un m'a dit lyrics</td>\n",
              "      <td>Album: Quelqu'un m'a dit (2002)</td>\n",
              "      <td>pop,chanson francaise</td>\n",
              "      <td>On me dit que nos vies ne valent pas grand cho...</td>\n",
              "      <td>198</td>\n",
              "    </tr>\n",
              "    <tr>\n",
              "      <th>4</th>\n",
              "      <td>4</td>\n",
              "      <td>Stromae</td>\n",
              "      <td>Formidable lyrics</td>\n",
              "      <td>Racine carrée (2013)</td>\n",
              "      <td>pop,electro</td>\n",
              "      <td>Tu étais formidable  j étais fort minable Nous...</td>\n",
              "      <td>313</td>\n",
              "    </tr>\n",
              "    <tr>\n",
              "      <th>...</th>\n",
              "      <td>...</td>\n",
              "      <td>...</td>\n",
              "      <td>...</td>\n",
              "      <td>...</td>\n",
              "      <td>...</td>\n",
              "      <td>...</td>\n",
              "      <td>...</td>\n",
              "    </tr>\n",
              "    <tr>\n",
              "      <th>4877</th>\n",
              "      <td>4995</td>\n",
              "      <td>L5</td>\n",
              "      <td>Deconnecter lyrics</td>\n",
              "      <td>NaN</td>\n",
              "      <td>pop</td>\n",
              "      <td>Est ce qu il faut que je signe de longs contra...</td>\n",
              "      <td>228</td>\n",
              "    </tr>\n",
              "    <tr>\n",
              "      <th>4878</th>\n",
              "      <td>4996</td>\n",
              "      <td>Francis Cabrel</td>\n",
              "      <td>Le temps s'en allait lyrics</td>\n",
              "      <td>NaN</td>\n",
              "      <td>pop,chanson francaise</td>\n",
              "      <td>Ce matin j ai joué aux billes  J ai couru les ...</td>\n",
              "      <td>371</td>\n",
              "    </tr>\n",
              "    <tr>\n",
              "      <th>4879</th>\n",
              "      <td>4997</td>\n",
              "      <td>Édith Piaf</td>\n",
              "      <td>C'est lui que mon cœur a choisi lyrics</td>\n",
              "      <td>NaN</td>\n",
              "      <td>chanson francaise</td>\n",
              "      <td>Je m rappelle plus comment on s était rencontr...</td>\n",
              "      <td>347</td>\n",
              "    </tr>\n",
              "    <tr>\n",
              "      <th>4880</th>\n",
              "      <td>4998</td>\n",
              "      <td>Tereza Kesovija</td>\n",
              "      <td>Quand j'irai vers l'or lyrics</td>\n",
              "      <td>NaN</td>\n",
              "      <td>NaN</td>\n",
              "      <td>Y aura des poissons d argents plein les rivièr...</td>\n",
              "      <td>302</td>\n",
              "    </tr>\n",
              "    <tr>\n",
              "      <th>4881</th>\n",
              "      <td>4999</td>\n",
              "      <td>Alizée</td>\n",
              "      <td>L'e-mail a des ailes lyrics</td>\n",
              "      <td>Album: Mes courants électriques... (2003)</td>\n",
              "      <td>pop,chanson francaise</td>\n",
              "      <td>Tout est écrit  Mais ma vie est l unique  C es...</td>\n",
              "      <td>124</td>\n",
              "    </tr>\n",
              "  </tbody>\n",
              "</table>\n",
              "<p>4789 rows × 7 columns</p>\n",
              "</div>\n",
              "      <button class=\"colab-df-convert\" onclick=\"convertToInteractive('df-b06c07de-490b-4d6c-80ff-759cf32037a2')\"\n",
              "              title=\"Convert this dataframe to an interactive table.\"\n",
              "              style=\"display:none;\">\n",
              "        \n",
              "  <svg xmlns=\"http://www.w3.org/2000/svg\" height=\"24px\"viewBox=\"0 0 24 24\"\n",
              "       width=\"24px\">\n",
              "    <path d=\"M0 0h24v24H0V0z\" fill=\"none\"/>\n",
              "    <path d=\"M18.56 5.44l.94 2.06.94-2.06 2.06-.94-2.06-.94-.94-2.06-.94 2.06-2.06.94zm-11 1L8.5 8.5l.94-2.06 2.06-.94-2.06-.94L8.5 2.5l-.94 2.06-2.06.94zm10 10l.94 2.06.94-2.06 2.06-.94-2.06-.94-.94-2.06-.94 2.06-2.06.94z\"/><path d=\"M17.41 7.96l-1.37-1.37c-.4-.4-.92-.59-1.43-.59-.52 0-1.04.2-1.43.59L10.3 9.45l-7.72 7.72c-.78.78-.78 2.05 0 2.83L4 21.41c.39.39.9.59 1.41.59.51 0 1.02-.2 1.41-.59l7.78-7.78 2.81-2.81c.8-.78.8-2.07 0-2.86zM5.41 20L4 18.59l7.72-7.72 1.47 1.35L5.41 20z\"/>\n",
              "  </svg>\n",
              "      </button>\n",
              "      \n",
              "  <style>\n",
              "    .colab-df-container {\n",
              "      display:flex;\n",
              "      flex-wrap:wrap;\n",
              "      gap: 12px;\n",
              "    }\n",
              "\n",
              "    .colab-df-convert {\n",
              "      background-color: #E8F0FE;\n",
              "      border: none;\n",
              "      border-radius: 50%;\n",
              "      cursor: pointer;\n",
              "      display: none;\n",
              "      fill: #1967D2;\n",
              "      height: 32px;\n",
              "      padding: 0 0 0 0;\n",
              "      width: 32px;\n",
              "    }\n",
              "\n",
              "    .colab-df-convert:hover {\n",
              "      background-color: #E2EBFA;\n",
              "      box-shadow: 0px 1px 2px rgba(60, 64, 67, 0.3), 0px 1px 3px 1px rgba(60, 64, 67, 0.15);\n",
              "      fill: #174EA6;\n",
              "    }\n",
              "\n",
              "    [theme=dark] .colab-df-convert {\n",
              "      background-color: #3B4455;\n",
              "      fill: #D2E3FC;\n",
              "    }\n",
              "\n",
              "    [theme=dark] .colab-df-convert:hover {\n",
              "      background-color: #434B5C;\n",
              "      box-shadow: 0px 1px 3px 1px rgba(0, 0, 0, 0.15);\n",
              "      filter: drop-shadow(0px 1px 2px rgba(0, 0, 0, 0.3));\n",
              "      fill: #FFFFFF;\n",
              "    }\n",
              "  </style>\n",
              "\n",
              "      <script>\n",
              "        const buttonEl =\n",
              "          document.querySelector('#df-b06c07de-490b-4d6c-80ff-759cf32037a2 button.colab-df-convert');\n",
              "        buttonEl.style.display =\n",
              "          google.colab.kernel.accessAllowed ? 'block' : 'none';\n",
              "\n",
              "        async function convertToInteractive(key) {\n",
              "          const element = document.querySelector('#df-b06c07de-490b-4d6c-80ff-759cf32037a2');\n",
              "          const dataTable =\n",
              "            await google.colab.kernel.invokeFunction('convertToInteractive',\n",
              "                                                     [key], {});\n",
              "          if (!dataTable) return;\n",
              "\n",
              "          const docLinkHtml = 'Like what you see? Visit the ' +\n",
              "            '<a target=\"_blank\" href=https://colab.research.google.com/notebooks/data_table.ipynb>data table notebook</a>'\n",
              "            + ' to learn more about interactive tables.';\n",
              "          element.innerHTML = '';\n",
              "          dataTable['output_type'] = 'display_data';\n",
              "          await google.colab.output.renderOutput(dataTable, element);\n",
              "          const docLink = document.createElement('div');\n",
              "          docLink.innerHTML = docLinkHtml;\n",
              "          element.appendChild(docLink);\n",
              "        }\n",
              "      </script>\n",
              "    </div>\n",
              "  </div>\n",
              "  "
            ]
          },
          "metadata": {},
          "execution_count": 14
        }
      ],
      "source": [
        "df"
      ]
    },
    {
      "cell_type": "markdown",
      "metadata": {
        "id": "hTikj-cq3FBj"
      },
      "source": [
        "# Lemmatizing the songs"
      ]
    },
    {
      "cell_type": "code",
      "execution_count": 15,
      "metadata": {
        "id": "kL9ocusXzSTV"
      },
      "outputs": [],
      "source": [
        "# Create function to lemmatize each lyric in the dataframe \n",
        "def lemmatize_song(row):\n",
        "  text = [] \n",
        "  doc = nlp(row)\n",
        "  for token in doc:\n",
        "    try: \n",
        "      text.append(token.lemma_)\n",
        "    except AttributeError:\n",
        "      continue\n",
        "  return text"
      ]
    },
    {
      "cell_type": "code",
      "execution_count": 16,
      "metadata": {
        "colab": {
          "base_uri": "https://localhost:8080/"
        },
        "id": "zOuSP7380GOx",
        "outputId": "7b8c7bf2-f52f-441f-e905-76df208f8eca"
      },
      "outputs": [
        {
          "output_type": "stream",
          "name": "stderr",
          "text": [
            "/usr/local/lib/python3.7/dist-packages/torch/autocast_mode.py:162: UserWarning: User provided device_type of 'cuda', but CUDA is not available. Disabling\n",
            "  warnings.warn('User provided device_type of \\'cuda\\', but CUDA is not available. Disabling')\n"
          ]
        }
      ],
      "source": [
        "df['text']= df['text'].astype(str)\n",
        "df[\"lemmatized\"] = df[\"text\"].apply(lemmatize_song)"
      ]
    },
    {
      "cell_type": "code",
      "source": [
        "df"
      ],
      "metadata": {
        "colab": {
          "base_uri": "https://localhost:8080/",
          "height": 1000
        },
        "id": "6_Zz86T_ZTA-",
        "outputId": "4bd010d9-f374-43e3-dc6c-17ed9cecb40a"
      },
      "execution_count": 17,
      "outputs": [
        {
          "output_type": "execute_result",
          "data": {
            "text/plain": [
              "      index           artist                                   title  \\\n",
              "0         0    Willy William                              Ego lyrics   \n",
              "1         1           Indila                   Dernière danse lyrics   \n",
              "2         2              Zaz                          Je veux lyrics   \n",
              "3         3      Carla Bruni                Quelqu'un m'a dit lyrics   \n",
              "4         4          Stromae                       Formidable lyrics   \n",
              "...     ...              ...                                     ...   \n",
              "4877   4995               L5                      Deconnecter lyrics   \n",
              "4878   4996   Francis Cabrel             Le temps s'en allait lyrics   \n",
              "4879   4997       Édith Piaf  C'est lui que mon cœur a choisi lyrics   \n",
              "4880   4998  Tereza Kesovija           Quand j'irai vers l'or lyrics   \n",
              "4881   4999           Alizée             L'e-mail a des ailes lyrics   \n",
              "\n",
              "                                          album                  genre  \\\n",
              "0              Album: Une seule vie (Collector)                electro   \n",
              "1                      Album: Mini World (2014)                    pop   \n",
              "2                             Album: Zaz (2010)                    pop   \n",
              "3               Album: Quelqu'un m'a dit (2002)  pop,chanson francaise   \n",
              "4                          Racine carrée (2013)            pop,electro   \n",
              "...                                         ...                    ...   \n",
              "4877                                        NaN                    pop   \n",
              "4878                                        NaN  pop,chanson francaise   \n",
              "4879                                        NaN      chanson francaise   \n",
              "4880                                        NaN                    NaN   \n",
              "4881  Album: Mes courants électriques... (2003)  pop,chanson francaise   \n",
              "\n",
              "                                                   text  word_count  \\\n",
              "0     Miroir  Dis moi qui est le plus beau  Quitte à...         174   \n",
              "1     Oh ma douce souffrance   Pourquoi s’acharner t...         266   \n",
              "2     Donnez moi une suite au Ritz  je n en veux pas...         211   \n",
              "3     On me dit que nos vies ne valent pas grand cho...         198   \n",
              "4     Tu étais formidable  j étais fort minable Nous...         313   \n",
              "...                                                 ...         ...   \n",
              "4877  Est ce qu il faut que je signe de longs contra...         228   \n",
              "4878  Ce matin j ai joué aux billes  J ai couru les ...         371   \n",
              "4879  Je m rappelle plus comment on s était rencontr...         347   \n",
              "4880  Y aura des poissons d argents plein les rivièr...         302   \n",
              "4881  Tout est écrit  Mais ma vie est l unique  C es...         124   \n",
              "\n",
              "                                             lemmatized  \n",
              "0     [miroir,  , dire, moi, qui, être, le, plus, be...  \n",
              "1     [Oh, mon, doux, souffrance,   , pourquoi, s’, ...  \n",
              "2     [donner, moi, un, suite, au, Ritz,  , je, n, e...  \n",
              "3     [on, me, dire, que, notre, vie, ne, valoir, pa...  \n",
              "4     [tu, être, formidable,  , j, être, fort, minab...  \n",
              "...                                                 ...  \n",
              "4877  [être, ce, qu, il, falloir, que, je, signe, de...  \n",
              "4878  [ce, matin, j, avoir, jouer, à, bille,  , j, a...  \n",
              "4879  [je, m, rappeler, plus, comment, on, s, être, ...  \n",
              "4880  [y, avoir, un, poisson, d, argent, plein, le, ...  \n",
              "4881  [tout, être, écrire,  , mais, mon, vie, être, ...  \n",
              "\n",
              "[4789 rows x 8 columns]"
            ],
            "text/html": [
              "\n",
              "  <div id=\"df-3a110c2f-17e4-418b-a394-d0571f22ef38\">\n",
              "    <div class=\"colab-df-container\">\n",
              "      <div>\n",
              "<style scoped>\n",
              "    .dataframe tbody tr th:only-of-type {\n",
              "        vertical-align: middle;\n",
              "    }\n",
              "\n",
              "    .dataframe tbody tr th {\n",
              "        vertical-align: top;\n",
              "    }\n",
              "\n",
              "    .dataframe thead th {\n",
              "        text-align: right;\n",
              "    }\n",
              "</style>\n",
              "<table border=\"1\" class=\"dataframe\">\n",
              "  <thead>\n",
              "    <tr style=\"text-align: right;\">\n",
              "      <th></th>\n",
              "      <th>index</th>\n",
              "      <th>artist</th>\n",
              "      <th>title</th>\n",
              "      <th>album</th>\n",
              "      <th>genre</th>\n",
              "      <th>text</th>\n",
              "      <th>word_count</th>\n",
              "      <th>lemmatized</th>\n",
              "    </tr>\n",
              "  </thead>\n",
              "  <tbody>\n",
              "    <tr>\n",
              "      <th>0</th>\n",
              "      <td>0</td>\n",
              "      <td>Willy William</td>\n",
              "      <td>Ego lyrics</td>\n",
              "      <td>Album: Une seule vie (Collector)</td>\n",
              "      <td>electro</td>\n",
              "      <td>Miroir  Dis moi qui est le plus beau  Quitte à...</td>\n",
              "      <td>174</td>\n",
              "      <td>[miroir,  , dire, moi, qui, être, le, plus, be...</td>\n",
              "    </tr>\n",
              "    <tr>\n",
              "      <th>1</th>\n",
              "      <td>1</td>\n",
              "      <td>Indila</td>\n",
              "      <td>Dernière danse lyrics</td>\n",
              "      <td>Album: Mini World (2014)</td>\n",
              "      <td>pop</td>\n",
              "      <td>Oh ma douce souffrance   Pourquoi s’acharner t...</td>\n",
              "      <td>266</td>\n",
              "      <td>[Oh, mon, doux, souffrance,   , pourquoi, s’, ...</td>\n",
              "    </tr>\n",
              "    <tr>\n",
              "      <th>2</th>\n",
              "      <td>2</td>\n",
              "      <td>Zaz</td>\n",
              "      <td>Je veux lyrics</td>\n",
              "      <td>Album: Zaz (2010)</td>\n",
              "      <td>pop</td>\n",
              "      <td>Donnez moi une suite au Ritz  je n en veux pas...</td>\n",
              "      <td>211</td>\n",
              "      <td>[donner, moi, un, suite, au, Ritz,  , je, n, e...</td>\n",
              "    </tr>\n",
              "    <tr>\n",
              "      <th>3</th>\n",
              "      <td>3</td>\n",
              "      <td>Carla Bruni</td>\n",
              "      <td>Quelqu'un m'a dit lyrics</td>\n",
              "      <td>Album: Quelqu'un m'a dit (2002)</td>\n",
              "      <td>pop,chanson francaise</td>\n",
              "      <td>On me dit que nos vies ne valent pas grand cho...</td>\n",
              "      <td>198</td>\n",
              "      <td>[on, me, dire, que, notre, vie, ne, valoir, pa...</td>\n",
              "    </tr>\n",
              "    <tr>\n",
              "      <th>4</th>\n",
              "      <td>4</td>\n",
              "      <td>Stromae</td>\n",
              "      <td>Formidable lyrics</td>\n",
              "      <td>Racine carrée (2013)</td>\n",
              "      <td>pop,electro</td>\n",
              "      <td>Tu étais formidable  j étais fort minable Nous...</td>\n",
              "      <td>313</td>\n",
              "      <td>[tu, être, formidable,  , j, être, fort, minab...</td>\n",
              "    </tr>\n",
              "    <tr>\n",
              "      <th>...</th>\n",
              "      <td>...</td>\n",
              "      <td>...</td>\n",
              "      <td>...</td>\n",
              "      <td>...</td>\n",
              "      <td>...</td>\n",
              "      <td>...</td>\n",
              "      <td>...</td>\n",
              "      <td>...</td>\n",
              "    </tr>\n",
              "    <tr>\n",
              "      <th>4877</th>\n",
              "      <td>4995</td>\n",
              "      <td>L5</td>\n",
              "      <td>Deconnecter lyrics</td>\n",
              "      <td>NaN</td>\n",
              "      <td>pop</td>\n",
              "      <td>Est ce qu il faut que je signe de longs contra...</td>\n",
              "      <td>228</td>\n",
              "      <td>[être, ce, qu, il, falloir, que, je, signe, de...</td>\n",
              "    </tr>\n",
              "    <tr>\n",
              "      <th>4878</th>\n",
              "      <td>4996</td>\n",
              "      <td>Francis Cabrel</td>\n",
              "      <td>Le temps s'en allait lyrics</td>\n",
              "      <td>NaN</td>\n",
              "      <td>pop,chanson francaise</td>\n",
              "      <td>Ce matin j ai joué aux billes  J ai couru les ...</td>\n",
              "      <td>371</td>\n",
              "      <td>[ce, matin, j, avoir, jouer, à, bille,  , j, a...</td>\n",
              "    </tr>\n",
              "    <tr>\n",
              "      <th>4879</th>\n",
              "      <td>4997</td>\n",
              "      <td>Édith Piaf</td>\n",
              "      <td>C'est lui que mon cœur a choisi lyrics</td>\n",
              "      <td>NaN</td>\n",
              "      <td>chanson francaise</td>\n",
              "      <td>Je m rappelle plus comment on s était rencontr...</td>\n",
              "      <td>347</td>\n",
              "      <td>[je, m, rappeler, plus, comment, on, s, être, ...</td>\n",
              "    </tr>\n",
              "    <tr>\n",
              "      <th>4880</th>\n",
              "      <td>4998</td>\n",
              "      <td>Tereza Kesovija</td>\n",
              "      <td>Quand j'irai vers l'or lyrics</td>\n",
              "      <td>NaN</td>\n",
              "      <td>NaN</td>\n",
              "      <td>Y aura des poissons d argents plein les rivièr...</td>\n",
              "      <td>302</td>\n",
              "      <td>[y, avoir, un, poisson, d, argent, plein, le, ...</td>\n",
              "    </tr>\n",
              "    <tr>\n",
              "      <th>4881</th>\n",
              "      <td>4999</td>\n",
              "      <td>Alizée</td>\n",
              "      <td>L'e-mail a des ailes lyrics</td>\n",
              "      <td>Album: Mes courants électriques... (2003)</td>\n",
              "      <td>pop,chanson francaise</td>\n",
              "      <td>Tout est écrit  Mais ma vie est l unique  C es...</td>\n",
              "      <td>124</td>\n",
              "      <td>[tout, être, écrire,  , mais, mon, vie, être, ...</td>\n",
              "    </tr>\n",
              "  </tbody>\n",
              "</table>\n",
              "<p>4789 rows × 8 columns</p>\n",
              "</div>\n",
              "      <button class=\"colab-df-convert\" onclick=\"convertToInteractive('df-3a110c2f-17e4-418b-a394-d0571f22ef38')\"\n",
              "              title=\"Convert this dataframe to an interactive table.\"\n",
              "              style=\"display:none;\">\n",
              "        \n",
              "  <svg xmlns=\"http://www.w3.org/2000/svg\" height=\"24px\"viewBox=\"0 0 24 24\"\n",
              "       width=\"24px\">\n",
              "    <path d=\"M0 0h24v24H0V0z\" fill=\"none\"/>\n",
              "    <path d=\"M18.56 5.44l.94 2.06.94-2.06 2.06-.94-2.06-.94-.94-2.06-.94 2.06-2.06.94zm-11 1L8.5 8.5l.94-2.06 2.06-.94-2.06-.94L8.5 2.5l-.94 2.06-2.06.94zm10 10l.94 2.06.94-2.06 2.06-.94-2.06-.94-.94-2.06-.94 2.06-2.06.94z\"/><path d=\"M17.41 7.96l-1.37-1.37c-.4-.4-.92-.59-1.43-.59-.52 0-1.04.2-1.43.59L10.3 9.45l-7.72 7.72c-.78.78-.78 2.05 0 2.83L4 21.41c.39.39.9.59 1.41.59.51 0 1.02-.2 1.41-.59l7.78-7.78 2.81-2.81c.8-.78.8-2.07 0-2.86zM5.41 20L4 18.59l7.72-7.72 1.47 1.35L5.41 20z\"/>\n",
              "  </svg>\n",
              "      </button>\n",
              "      \n",
              "  <style>\n",
              "    .colab-df-container {\n",
              "      display:flex;\n",
              "      flex-wrap:wrap;\n",
              "      gap: 12px;\n",
              "    }\n",
              "\n",
              "    .colab-df-convert {\n",
              "      background-color: #E8F0FE;\n",
              "      border: none;\n",
              "      border-radius: 50%;\n",
              "      cursor: pointer;\n",
              "      display: none;\n",
              "      fill: #1967D2;\n",
              "      height: 32px;\n",
              "      padding: 0 0 0 0;\n",
              "      width: 32px;\n",
              "    }\n",
              "\n",
              "    .colab-df-convert:hover {\n",
              "      background-color: #E2EBFA;\n",
              "      box-shadow: 0px 1px 2px rgba(60, 64, 67, 0.3), 0px 1px 3px 1px rgba(60, 64, 67, 0.15);\n",
              "      fill: #174EA6;\n",
              "    }\n",
              "\n",
              "    [theme=dark] .colab-df-convert {\n",
              "      background-color: #3B4455;\n",
              "      fill: #D2E3FC;\n",
              "    }\n",
              "\n",
              "    [theme=dark] .colab-df-convert:hover {\n",
              "      background-color: #434B5C;\n",
              "      box-shadow: 0px 1px 3px 1px rgba(0, 0, 0, 0.15);\n",
              "      filter: drop-shadow(0px 1px 2px rgba(0, 0, 0, 0.3));\n",
              "      fill: #FFFFFF;\n",
              "    }\n",
              "  </style>\n",
              "\n",
              "      <script>\n",
              "        const buttonEl =\n",
              "          document.querySelector('#df-3a110c2f-17e4-418b-a394-d0571f22ef38 button.colab-df-convert');\n",
              "        buttonEl.style.display =\n",
              "          google.colab.kernel.accessAllowed ? 'block' : 'none';\n",
              "\n",
              "        async function convertToInteractive(key) {\n",
              "          const element = document.querySelector('#df-3a110c2f-17e4-418b-a394-d0571f22ef38');\n",
              "          const dataTable =\n",
              "            await google.colab.kernel.invokeFunction('convertToInteractive',\n",
              "                                                     [key], {});\n",
              "          if (!dataTable) return;\n",
              "\n",
              "          const docLinkHtml = 'Like what you see? Visit the ' +\n",
              "            '<a target=\"_blank\" href=https://colab.research.google.com/notebooks/data_table.ipynb>data table notebook</a>'\n",
              "            + ' to learn more about interactive tables.';\n",
              "          element.innerHTML = '';\n",
              "          dataTable['output_type'] = 'display_data';\n",
              "          await google.colab.output.renderOutput(dataTable, element);\n",
              "          const docLink = document.createElement('div');\n",
              "          docLink.innerHTML = docLinkHtml;\n",
              "          element.appendChild(docLink);\n",
              "        }\n",
              "      </script>\n",
              "    </div>\n",
              "  </div>\n",
              "  "
            ]
          },
          "metadata": {},
          "execution_count": 17
        }
      ]
    },
    {
      "cell_type": "markdown",
      "metadata": {
        "id": "CGsoCk9WoaHl"
      },
      "source": [
        "# Understanding the data "
      ]
    },
    {
      "cell_type": "code",
      "execution_count": 18,
      "metadata": {
        "id": "g94jleRcsjGh"
      },
      "outputs": [],
      "source": [
        "from spacy.lang.fr.stop_words import STOP_WORDS as fr_stop\n",
        "import collections\n",
        "import matplotlib\n",
        "from wordcloud import WordCloud\n",
        "import warnings\n",
        "warnings.filterwarnings(\"ignore\")\n",
        "from matplotlib.text import Text"
      ]
    },
    {
      "cell_type": "code",
      "source": [
        "# Getting rid of the na\n",
        "df = df[df['text'].notna()]\n",
        "df = df[df['text'] != 'nan']\n",
        "df = df.reset_index()\n",
        "df = df.drop([\"index\"], axis=1)\n",
        "#df= df.drop(['level_0'],axis=1)"
      ],
      "metadata": {
        "id": "_Xuq8naXAgTw"
      },
      "execution_count": 46,
      "outputs": []
    },
    {
      "cell_type": "code",
      "source": [
        "# Correcting a mistake that was in the DF \n",
        "df['genre'].replace({'comedie musicale/film,comedie musicale/film':'comedie musicale/film'}, inplace=True)"
      ],
      "metadata": {
        "id": "WB3v67-aw4Tu"
      },
      "execution_count": 19,
      "outputs": []
    },
    {
      "cell_type": "markdown",
      "source": [
        "## Wordcloud"
      ],
      "metadata": {
        "id": "QOXEjeFclVMk"
      }
    },
    {
      "cell_type": "code",
      "execution_count": 20,
      "metadata": {
        "id": "I_jVC1QyoZm4"
      },
      "outputs": [],
      "source": [
        "stop_words = list(fr_stop)\n",
        "stop_words = stop_words + ['j', 'l', 'd', 'qu', 'c', 't', 'm', 'n', 's', \"c'est\", ':', \"»\", \"«\"]"
      ]
    },
    {
      "cell_type": "code",
      "source": [
        "wordcount = {}\n",
        "def count_word(text):\n",
        "  for word in text.lower().split():\n",
        "      if word not in stop_words:\n",
        "          if word not in wordcount:\n",
        "              wordcount[word] = 1\n",
        "          else:\n",
        "              wordcount[word] += 1"
      ],
      "metadata": {
        "id": "erxR7NzODxyv"
      },
      "execution_count": 21,
      "outputs": []
    },
    {
      "cell_type": "code",
      "execution_count": 24,
      "metadata": {
        "id": "rul5GM1curfT",
        "colab": {
          "base_uri": "https://localhost:8080/"
        },
        "outputId": "c853ddbd-22fe-4dc4-931d-1c14595940db"
      },
      "outputs": [
        {
          "output_type": "execute_result",
          "data": {
            "text/plain": [
              "0       None\n",
              "1       None\n",
              "2       None\n",
              "3       None\n",
              "4       None\n",
              "        ... \n",
              "4877    None\n",
              "4878    None\n",
              "4879    None\n",
              "4880    None\n",
              "4881    None\n",
              "Name: text, Length: 4789, dtype: object"
            ]
          },
          "metadata": {},
          "execution_count": 24
        }
      ],
      "source": [
        "df['text'].apply(count_word)"
      ]
    },
    {
      "cell_type": "code",
      "execution_count": 26,
      "metadata": {
        "id": "WfjJ1-H3udTJ",
        "colab": {
          "base_uri": "https://localhost:8080/"
        },
        "outputId": "bd32290d-d5d8-4444-a73b-da39030dc4c8"
      },
      "outputs": [
        {
          "output_type": "stream",
          "name": "stdout",
          "text": [
            "vie :  8448\n",
            "amour :  8090\n",
            "rien :  7114\n",
            "oh :  6738\n",
            "bien :  6616\n",
            "faire :  5686\n",
            "temps :  5470\n",
            "aime :  5376\n",
            "veux :  5286\n",
            "sais :  5182\n",
            "jour :  4770\n",
            "jamais :  4586\n",
            "monde :  4562\n",
            "trop :  4318\n",
            "cœur :  4270\n",
            "non :  3704\n",
            "c’est :  3428\n",
            "dis :  3416\n",
            "yeux :  3380\n",
            "faut :  3256\n",
            "nuit :  3196\n",
            "mal :  3010\n",
            "oui :  2762\n",
            "fois :  2628\n",
            "loin :  2538\n",
            "vois :  2426\n",
            "voir :  2388\n",
            "terre :  2228\n",
            "ciel :  2194\n",
            "j’ai :  2176\n",
            "peur :  2156\n",
            "laisse :  2098\n",
            "viens :  2092\n",
            "belle :  2086\n",
            "soir :  2072\n",
            "soleil :  2012\n",
            "beau :  2004\n",
            "vivre :  1936\n",
            "bras :  1908\n",
            "ici :  1904\n",
            "mots :  1876\n",
            "tête :  1846\n",
            "aimer :  1822\n",
            "crois :  1816\n",
            "danse :  1782\n",
            "corps :  1758\n",
            "sens :  1714\n",
            "grand :  1710\n",
            "petit :  1704\n",
            "histoire :  1614\n",
            "coeur :  1590\n",
            "main :  1568\n",
            "passe :  1560\n",
            "vent :  1540\n",
            "rêve :  1532\n",
            "bon :  1510\n",
            "donne :  1496\n",
            "rêves :  1496\n",
            "homme :  1472\n",
            "jours :  1454\n",
            "fond :  1434\n",
            "mieux :  1428\n",
            "mort :  1404\n",
            "bonheur :  1402\n",
            "fort :  1390\n",
            "ouais :  1384\n",
            "dieu :  1360\n",
            "veut :  1360\n",
            "oublie :  1360\n",
            "demain :  1356\n",
            "besoin :  1332\n",
            "air :  1330\n",
            "aller :  1308\n",
            "fille :  1304\n",
            "voix :  1292\n",
            "envie :  1280\n",
            "bout :  1268\n",
            "âme :  1262\n",
            "qu’on :  1260\n",
            "peine :  1242\n",
            "regarde :  1238\n",
            "allez :  1214\n",
            "you :  1212\n",
            "prends :  1210\n",
            "ans :  1188\n",
            "paris :  1150\n",
            "contre :  1138\n",
            "femme :  1136\n",
            "mains :  1118\n",
            "passé :  1114\n",
            "fou :  1110\n",
            "enfant :  1094\n",
            "sourire :  1088\n",
            "peau :  1086\n",
            "vient :  1078\n",
            "haut :  1076\n",
            "lumière :  1036\n",
            "larmes :  1034\n",
            "croire :  1030\n",
            "chante :  1008\n"
          ]
        }
      ],
      "source": [
        "word_counter = collections.Counter(wordcount)\n",
        "for word, count in word_counter.most_common(100):\n",
        "  print(word, \": \", count)"
      ]
    },
    {
      "cell_type": "code",
      "source": [
        "plt.figure(figsize=[20,10])\n",
        "plt.imshow(wc)\n",
        "plt.axis('off')\n",
        "plt.show()"
      ],
      "metadata": {
        "id": "NXomF8ARI8Cg"
      },
      "execution_count": null,
      "outputs": []
    },
    {
      "cell_type": "markdown",
      "source": [
        "## Songs per singers"
      ],
      "metadata": {
        "id": "zC5dknyytGT7"
      }
    },
    {
      "cell_type": "code",
      "source": [
        "font = {'family' : 'normal',\n",
        "        'size'   : 15}\n",
        "matplotlib.rc('font', **font)\n",
        "fig, ax = plt.subplots()\n",
        "df['artist'].value_counts()[0:10].plot(kind='barh', figsize=(16, 20))\n",
        "ax.invert_yaxis()\n",
        "plt.xlabel('number of songs')\n",
        "plt.ylabel('singers')\n",
        "plt.show()"
      ],
      "metadata": {
        "colab": {
          "base_uri": "https://localhost:8080/",
          "height": 745
        },
        "id": "OJcCc3-YtOaS",
        "outputId": "9e65759e-1fa2-4719-b087-ad71ad405065"
      },
      "execution_count": 49,
      "outputs": [
        {
          "output_type": "display_data",
          "data": {
            "text/plain": [
              "<Figure size 1152x1440 with 1 Axes>"
            ],
            "image/png": "[encoded data removed]"
          },
          "metadata": {
            "needs_background": "light"
          }
        }
      ]
    },
    {
      "cell_type": "markdown",
      "source": [
        "## Word count "
      ],
      "metadata": {
        "id": "VF8RmAc_leI7"
      }
    },
    {
      "cell_type": "code",
      "source": [
        "genre_rank_words = df.groupby('genre')['word_count'].mean().sort_values()"
      ],
      "metadata": {
        "id": "Qz25EqlUjy56"
      },
      "execution_count": 37,
      "outputs": []
    },
    {
      "cell_type": "code",
      "source": [
        "genre_rank_words.plot(kind = \"bar\", figsize= (15, 8))\n",
        "plt.xlabel('genre')\n",
        "plt.ylabel('average number of words')\n",
        "plt.show()"
      ],
      "metadata": {
        "colab": {
          "base_uri": "https://localhost:8080/",
          "height": 575
        },
        "id": "DB5Rs50vrlN8",
        "outputId": "126cee5f-2524-47a5-e472-e522867907c7"
      },
      "execution_count": 50,
      "outputs": [
        {
          "output_type": "display_data",
          "data": {
            "text/plain": [
              "<Figure size 1080x576 with 1 Axes>"
            ],
            "image/png": "[encoded data removed]"
          },
          "metadata": {
            "needs_background": "light"
          }
        }
      ]
    },
    {
      "cell_type": "code",
      "source": [
        "artist_rank_words = df.groupby('artist')['word_count'].mean().sort_values()\n",
        "artist_rank_words[-10:].plot(kind = \"bar\", figsize= (15, 8))\n",
        "plt.xlabel('artists')\n",
        "plt.ylabel('average number of words')\n",
        "plt.show()"
      ],
      "metadata": {
        "colab": {
          "base_uri": "https://localhost:8080/",
          "height": 491
        },
        "id": "xdDkCjVu7vot",
        "outputId": "1db19aad-c33d-405b-da70-58ba5ac4d48d"
      },
      "execution_count": 51,
      "outputs": [
        {
          "output_type": "display_data",
          "data": {
            "text/plain": [
              "<Figure size 1080x576 with 1 Axes>"
            ],
            "image/png": "[encoded data removed]"
          },
          "metadata": {
            "needs_background": "light"
          }
        }
      ]
    },
    {
      "cell_type": "code",
      "source": [
        "artist_rank_words"
      ],
      "metadata": {
        "colab": {
          "base_uri": "https://localhost:8080/"
        },
        "id": "_RCaYuo2_64x",
        "outputId": "b450a0df-0cf1-462e-bea3-0ba497761957"
      },
      "execution_count": 52,
      "outputs": [
        {
          "output_type": "execute_result",
          "data": {
            "text/plain": [
              "artist\n",
              "Armin van Buuren         11.000000\n",
              "Nine Inch Nails          32.000000\n",
              "Alexandrina Hristov      34.000000\n",
              "Nico                     36.000000\n",
              "Morten Lauridsen         37.000000\n",
              "                          ...     \n",
              "Kool et Radikal         978.000000\n",
              "IAM                    1068.166667\n",
              "Mafia K’1 Fry          1089.000000\n",
              "Kery James             1105.571429\n",
              "Fonky Family           1186.000000\n",
              "Name: word_count, Length: 1143, dtype: float64"
            ]
          },
          "metadata": {},
          "execution_count": 52
        }
      ]
    },
    {
      "cell_type": "markdown",
      "metadata": {
        "id": "6cGeUab23ekq"
      },
      "source": [
        "# Getting the list of words per level"
      ]
    },
    {
      "cell_type": "code",
      "execution_count": 67,
      "metadata": {
        "id": "DKIGkY1s6whj"
      },
      "outputs": [],
      "source": [
        "# Reading into dfs the list of words\n",
        "  # Memrise one\n",
        "df_words = pd.read_csv(\"words.csv\")\n",
        "df_words = df_words.drop(\"Unnamed: 0\", axis = 1)\n",
        "  # Frequency one\n",
        "df_frequence = pd.read_csv(\"frequence_mots.csv\", sep= \";\")\n",
        "df_frequence = df_frequence.drop([\"Unnamed: 3\", \"Unnamed: 4\", \"Fréquence\"], axis = 1)\n",
        "# Cleaning the lists from unnecessary article\n",
        "df_words[\"word_no_dt\"] = df_words['word'].str.replace(r\"^une\\s|^un\\s|^un/une\\s|^des\\s\", '', regex=True)\n",
        "total_memrize = df_words[\"word_no_dt\"].tolist()\n",
        "total_freq = df_frequence[\"Mot\"].tolist()\n",
        "# Adding the frequency list to A1, A2 and B1\n",
        "A1 = total_freq[0:600]\n",
        "A2 = total_freq[601:1201]\n",
        "B1 = total_freq[1202:]\n",
        "B2 = []\n",
        "# Getting rid of the words that are already in the other lists\n",
        "memrize_without_freq = [x for x in total_memrize if x not in total_freq]\n",
        "# Completing the B1 and B2 with the Memrise list cleaned \n",
        "B1= B1 + memrize_without_freq[0:1040]\n",
        "B2 = memrize_without_freq[1040:-131]\n",
        "C = memrize_without_freq[-131:]"
      ]
    },
    {
      "cell_type": "code",
      "execution_count": 68,
      "metadata": {
        "colab": {
          "base_uri": "https://localhost:8080/"
        },
        "id": "U_QIx-Ok7Q_o",
        "outputId": "f9e9190c-295e-4f00-cd6b-239be23c22ce"
      },
      "outputs": [
        {
          "output_type": "stream",
          "name": "stdout",
          "text": [
            "600 600 1300 2500\n",
            "5000\n"
          ]
        }
      ],
      "source": [
        "print(len(A1), len(A2), len(B1), len(B2))\n",
        "print(len(A1) + len(A2) + len(B1) + len(B2))"
      ]
    },
    {
      "cell_type": "markdown",
      "metadata": {
        "id": "3H3ABKMb353P"
      },
      "source": [
        "# Classification"
      ]
    },
    {
      "cell_type": "code",
      "execution_count": 57,
      "metadata": {
        "id": "BBl_S15a7Tkx"
      },
      "outputs": [],
      "source": [
        "from sklearn.feature_extraction.text import CountVectorizer\n",
        "from sklearn.feature_extraction import text \n",
        "import scipy.sparse"
      ]
    },
    {
      "cell_type": "code",
      "source": [
        "def normalise(text):\n",
        "  new = ' '.join(text)\n",
        "  return new "
      ],
      "metadata": {
        "id": "mo-Q-wWUgBeW"
      },
      "execution_count": 58,
      "outputs": []
    },
    {
      "cell_type": "code",
      "source": [
        "df['normalised'] = df['lemmatized'].apply(normalise)"
      ],
      "metadata": {
        "id": "EAVrt3def7Ch"
      },
      "execution_count": 59,
      "outputs": []
    },
    {
      "cell_type": "code",
      "execution_count": 61,
      "metadata": {
        "id": "vgdhOPqV7V0j"
      },
      "outputs": [],
      "source": [
        "coun_vect = CountVectorizer()\n",
        "count_matrix = coun_vect.fit_transform(df[\"normalised\"])\n",
        "count_array = count_matrix.toarray()\n",
        "df_table = pd.DataFrame(data=count_array,columns = coun_vect.get_feature_names_out())"
      ]
    },
    {
      "cell_type": "code",
      "execution_count": 62,
      "metadata": {
        "colab": {
          "base_uri": "https://localhost:8080/"
        },
        "id": "tWRNQLdZ7o7S",
        "outputId": "449bef03-f038-474e-dab1-b19ba10d528f"
      },
      "outputs": [
        {
          "output_type": "stream",
          "name": "stdout",
          "text": [
            "              word  0  1  2  3  4  5  6  7  8  ...  4622  4623  4624  4625  \\\n",
            "0               aa  0  0  0  0  0  0  0  0  0  ...     0     0     0     0   \n",
            "1              aah  0  0  0  0  0  0  0  0  0  ...     0     0     0     0   \n",
            "2            aahhh  0  0  0  0  0  0  0  0  0  ...     0     0     0     0   \n",
            "3          aaliyah  0  0  0  0  0  0  0  0  0  ...     0     0     0     0   \n",
            "4            aasma  0  0  0  0  0  0  0  0  0  ...     0     0     0     0   \n",
            "...            ... .. .. .. .. .. .. .. .. ..  ...   ...   ...   ...   ...   \n",
            "26546          該愛的  0  0  0  0  0  0  0  0  0  ...     0     0     0     0   \n",
            "26547          該說的  0  0  0  0  0  0  0  0  0  ...     0     0     0     0   \n",
            "26548  讓那擁抱不停的延續下去  0  0  0  0  0  0  0  0  0  ...     0     0     0     0   \n",
            "26549          開心的  0  0  0  0  0  0  0  0  0  ...     0     0     0     0   \n",
            "26550          雨下了  0  0  0  0  0  0  0  0  0  ...     0     0     0     0   \n",
            "\n",
            "       4626  4627  4628  4629  4630  4631  \n",
            "0         0     0     0     0     0     0  \n",
            "1         0     0     0     0     0     0  \n",
            "2         0     0     0     0     0     0  \n",
            "3         0     0     0     0     0     0  \n",
            "4         0     0     0     0     0     0  \n",
            "...     ...   ...   ...   ...   ...   ...  \n",
            "26546     0     0     0     0     0     0  \n",
            "26547     0     0     0     0     0     0  \n",
            "26548     0     0     0     0     0     0  \n",
            "26549     0     0     0     0     0     0  \n",
            "26550     0     0     0     0     0     0  \n",
            "\n",
            "[26551 rows x 4633 columns]\n"
          ]
        }
      ],
      "source": [
        "df_dtm = df_table.T\n",
        "df_dtm = df_dtm.reset_index(level=0)\n",
        "df_dtm = df_dtm.rename(columns={\"index\": \"word\"})\n",
        "print(df_dtm)"
      ]
    },
    {
      "cell_type": "code",
      "execution_count": 69,
      "metadata": {
        "id": "YKB0Yksv7vhy"
      },
      "outputs": [],
      "source": [
        "df_dtm[\"level\"] = None\n",
        "for i in range(len(df_dtm.index)): \n",
        "  for word in A1: \n",
        "    if df_dtm[\"word\"].iloc[i] == word:\n",
        "      df_dtm[\"level\"].iloc[i] = \"A1\"\n",
        "      break \n",
        "  for word in A2: \n",
        "    if df_dtm[\"word\"].iloc[i] == word: \n",
        "      df_dtm[\"level\"].iloc[i] = \"A2\"\n",
        "      break\n",
        "  for word in B1: \n",
        "    if df_dtm[\"word\"].iloc[i] == word:\n",
        "      df_dtm[\"level\"].iloc[i] = \"B1\"\n",
        "      break \n",
        "  for word in B2: \n",
        "    if df_dtm[\"word\"].iloc[i] == word:\n",
        "      df_dtm[\"level\"].iloc[i] = \"B2\"\n",
        "      break    "
      ]
    },
    {
      "cell_type": "code",
      "execution_count": 70,
      "metadata": {
        "colab": {
          "base_uri": "https://localhost:8080/"
        },
        "id": "QZDebFbu70kM",
        "outputId": "36841f0d-85b7-4059-c340-02f91a2bc647"
      },
      "outputs": [
        {
          "output_type": "stream",
          "name": "stdout",
          "text": [
            "       0     1     2     3     4     5     6     7     8     9     ...  4622  \\\n",
            "level                                                              ...         \n",
            "A1      115   171   144   143   193   172   332   138    60    70  ...   139   \n",
            "A2       11    28    24    15    17    24    66    31     5     9  ...    38   \n",
            "B1        7     3     8     3     6     9    11    10     1     2  ...     8   \n",
            "B2        4    26     7     4    45     5     9     4     7     5  ...     8   \n",
            "\n",
            "       4623  4624  4625  4626  4627  4628  4629  4630  4631  \n",
            "level                                                        \n",
            "A1      128   156   140    65   154   259   222   149    64  \n",
            "A2       39    25    15    10    15    25    25    44    17  \n",
            "B1        8     7     6    10     2    13    17    28     3  \n",
            "B2        1     7    10     8     3     4     0    15     3  \n",
            "\n",
            "[4 rows x 4632 columns]\n"
          ]
        }
      ],
      "source": [
        "df_level = df_dtm.groupby(by=\"level\").sum()\n",
        "print(df_level)"
      ]
    },
    {
      "cell_type": "code",
      "execution_count": null,
      "metadata": {
        "id": "Ge4lFmVN-AKx"
      },
      "outputs": [],
      "source": [
        "# Around 9 min\n",
        "# Create a dictionary with the percentage of words of each level for each songs\n",
        "songs_percentage = {}\n",
        "i =0 \n",
        "while i < len(df):\n",
        "  songs_percentage[i] = []\n",
        "  for row in df_level[i]: \n",
        "    songs_percentage[i].append((row/df.loc[i]['word_count'])*100)\n",
        "  i += 1"
      ]
    },
    {
      "cell_type": "code",
      "execution_count": 93,
      "metadata": {
        "id": "UXOxoGm2Cf0v"
      },
      "outputs": [],
      "source": [
        "percentage = pd.DataFrame.from_dict(songs_percentage)\n",
        "percentage = percentage.T\n",
        "percentage = percentage.rename(columns={0: \"A1\", 1: \"A2\", 2:\"B1\", 3:\"B2\"})\n",
        "df_complete = df.join(percentage)\n",
        "df_complete['A']= df_complete['A1'] + df_complete['A2']\n",
        "df_complete['A + B']= df_complete['A1'] + df_complete['A2'] + df_complete['B1'] + df_complete['B2']\n",
        "df_easiest = df_complete.sort_values(\"A1\", ascending=False)\n",
        "df_medium = df_complete.sort_values(\"A\", ascending = False)\n",
        "df_hardest = df_complete.sort_values(\"A + B\", ascending = False)"
      ]
    },
    {
      "cell_type": "code",
      "source": [
        "top_50_A1 = []\n",
        "for x in range(50):\n",
        "  title = df_easiest.iloc[x]['title']\n",
        "  artiste = df_easiest.iloc[x]['artist']\n",
        "  genre = df_easiest.iloc[x][\"genre\"]\n",
        "  top_50_A1.append(str(title) + \" de \" + str(artiste) + \" genre = \" + str(genre))\n",
        "\n",
        "top_50_A1"
      ],
      "metadata": {
        "colab": {
          "base_uri": "https://localhost:8080/"
        },
        "id": "ZwRhQD0QLq7L",
        "outputId": "48b2bdc3-f997-4811-f737-7a6a53c58418"
      },
      "execution_count": 94,
      "outputs": [
        {
          "output_type": "execute_result",
          "data": {
            "text/plain": [
              "['Il faut manger lyrics de Manu Chao genre = pop',\n",
              " \"Qu'avons-nous fait de vous\\u202f? lyrics de Le Roi Soleil (Comédie Musicale) genre = comedie musicale/film\",\n",
              " 'La poupée qui fait non lyrics de Mylène Farmer genre = pop,chanson francaise',\n",
              " 'Elle lyrics de Melissa M genre = nan',\n",
              " 'Tu me manques (Missing You) lyrics de Mia Martina genre = nan',\n",
              " 'Reste-là lyrics de Keren Ann genre = pop,chanson francaise',\n",
              " 'Tu te reconnaîtras lyrics de Anne-Marie David genre = nan',\n",
              " 'Attendre lyrics de Céline Dion genre = pop,chanson francaise',\n",
              " 'Que sont devenues les fleurs lyrics de Dalida genre = pop',\n",
              " 'Soleil Soleil lyrics de Nana Mouskouri genre = pop',\n",
              " 'Tout au bout de nos peines lyrics de Isabelle Boulay genre = pop',\n",
              " 'Seul lyrics de Madame Kay genre = pop,rock',\n",
              " 'Tout de moi lyrics de Andrée Watters genre = pop',\n",
              " 'Je reviens lyrics de Autour de Lucie genre = rock',\n",
              " 'Tu Te Reconnaitras lyrics de Elsa genre = nan',\n",
              " \"Ne m'oublie pas [Remember Me] lyrics de Coco (OST) genre = comedie musicale/film\",\n",
              " 'Dans mon monde lyrics de Violetta (OST) genre = comedie musicale/film',\n",
              " \"J't'emmène au vent lyrics de Louise Attaque genre = pop,rock,chanson francaise\",\n",
              " \"Je ne t'aime plus lyrics de Manu Chao genre = pop\",\n",
              " \"Et s'il fallait le faire lyrics de Patricia Kaas genre = chanson francaise\",\n",
              " 'Au secours lyrics de Céline Dion genre = pop,chanson francaise',\n",
              " 'Alors adieu lyrics de Alain Barrière genre = chanson francaise',\n",
              " 'Sans toi lyrics de Amadou & Mariam genre = pop',\n",
              " 'Le temps de vivre lyrics de Georges Moustaki genre = chanson francaise',\n",
              " 'Sans toi lyrics de Marc Dupré genre = nan',\n",
              " 'La poupée qui fait non lyrics de Michel Polnareff genre = pop',\n",
              " 'Je reviens lyrics de Jean-Baptiste Maunier genre = nan',\n",
              " 'Le pénitencier lyrics de Johnny Hallyday genre = pop,rock',\n",
              " \"La vie fait ce qu'elle veut lyrics de Julie Zenatti genre = pop\",\n",
              " \"S'aimer est interdit lyrics de Le Roi Soleil (Comédie Musicale) genre = comedie musicale/film\",\n",
              " 'Ce sera le temps lyrics de Barış Manço genre = nan',\n",
              " 'Comme ci comme ça lyrics de Zaz genre = pop',\n",
              " 'Mirza lyrics de Nino Ferrer genre = pop,rock',\n",
              " 'Appelle-moi lyrics de Allena genre = nan',\n",
              " 'Contre nature lyrics de Céline Dion genre = pop,chanson francaise',\n",
              " 'Belle et Sébastiane lyrics de Indochine genre = pop,rock,chanson francaise',\n",
              " 'Toi, mon amour caché lyrics de Linda de Suza genre = nan',\n",
              " 'Et moi lyrics de Édith Piaf genre = chanson francaise',\n",
              " 'À ma place lyrics de Axel Bauer genre = pop',\n",
              " 'Soleil, soleil lyrics de Pomme genre = pop',\n",
              " \"Faded (French Version) lyrics de Sara'h genre = pop\",\n",
              " 'Ma vie, ma ville, mon monde lyrics de Amir genre = pop',\n",
              " 'Partout je te vois lyrics de Céline Dion genre = pop,chanson francaise',\n",
              " 'Mon amour, mon ami lyrics de Carla Bruni genre = pop,chanson francaise',\n",
              " 'Je suis là lyrics de Louis Delort & The Sheperds genre = nan',\n",
              " \"L'amour et la violence lyrics de Sébastien Tellier genre = pop\",\n",
              " \"N'as-tu pas honte ? lyrics de Don Juan (comédie musicale) genre = comedie musicale/film\",\n",
              " 'À quoi tu penses, dis lyrics de Mireille Mathieu genre = chanson francaise',\n",
              " 'Où est ma vie? lyrics de Isabelle Boulay genre = pop',\n",
              " 'Sacred Heart lyrics de The Civil Wars genre = nan']"
            ]
          },
          "metadata": {},
          "execution_count": 94
        }
      ]
    },
    {
      "cell_type": "code",
      "source": [
        "top_medium = pd.merge(df_easiest[0:50], df_medium[0:100], on= ['title', 'artist', 'genre'], how='outer', indicator = True).query('_merge==\"right_only\"')\n",
        "top_50_A2 = []\n",
        "for x in range(50):\n",
        "  title = top_medium.iloc[x]['title']\n",
        "  artiste = top_medium.iloc[x]['artist']\n",
        "  genre = top_medium.iloc[x][\"genre\"]\n",
        "  top_50_A2.append(str(title) + \" de \" + str(artiste) + \" genre = \" + str(genre))\n",
        "\n",
        "top_50_A2"
      ],
      "metadata": {
        "colab": {
          "base_uri": "https://localhost:8080/"
        },
        "id": "IlewwyUIRRpe",
        "outputId": "a1638e2a-63ab-49e5-fbb2-acab1cb13e77"
      },
      "execution_count": 78,
      "outputs": [
        {
          "output_type": "execute_result",
          "data": {
            "text/plain": [
              "['Je te laisserai des mots lyrics de Patrick Watson genre = nan',\n",
              " 'Qu’est-ce que c’est? lyrics de Téléfrançais genre = comedie musicale/film',\n",
              " 'Pas avec toi lyrics de Plastiscines genre = nan',\n",
              " 'Pour une fois lyrics de Marie-Mai genre = pop',\n",
              " \"L'intranquilité lyrics de Louise Attaque genre = pop,rock,chanson francaise\",\n",
              " 'Te passe pas de moi lyrics de Judith (France) genre = nan',\n",
              " 'Tu me manques lyrics de Sheryfa Luna genre = pop',\n",
              " 'Ici maintenant lyrics de Marie-Mai genre = pop',\n",
              " 'Le temps des fleurs lyrics de Vicky Leandros genre = pop',\n",
              " 'Tes yeux noirs lyrics de Indochine genre = pop,rock,chanson francaise',\n",
              " 'Fais ce que tu voudras lyrics de Céline Dion genre = pop,chanson francaise',\n",
              " 'Sous le vent lyrics de Garou genre = pop,chanson francaise',\n",
              " 'Tu dis rien lyrics de Louise Attaque genre = pop,rock,chanson francaise',\n",
              " 'En hiver lyrics de Marie-Mai genre = pop',\n",
              " 'Une femme amoureuse lyrics de Mireille Mathieu genre = chanson francaise',\n",
              " 'Dans un autre monde [Into the Unknown] lyrics de Frozen 2 (OST) genre = comedie musicale/film',\n",
              " 'Les jours comme ça lyrics de Céline Dion genre = pop,chanson francaise',\n",
              " \"Si j'étais son soleil lyrics de Olivier Dion genre = nan\",\n",
              " \"Jardin d'hiver lyrics de Keren Ann genre = pop,chanson francaise\",\n",
              " 'Pour toi, mon amour lyrics de Jacques Prévert genre = poesie',\n",
              " 'Maintenant lyrics de Jenifer genre = pop,chanson francaise',\n",
              " 'Dansez-vous lyrics de Pink Martini genre = nan',\n",
              " 'La vie en rose lyrics de Édith Piaf genre = chanson francaise',\n",
              " 'Ceremonia lyrics de Indochine genre = pop,rock,chanson francaise',\n",
              " 'Sweet Dreams lyrics de Indochine genre = pop,rock,chanson francaise',\n",
              " 'Différents lyrics de Marie-Mai genre = pop',\n",
              " 'Reviens (Où te caches-tu?) lyrics de Garou genre = pop,chanson francaise',\n",
              " 'Memoria lyrics de Indochine genre = pop,rock,chanson francaise',\n",
              " 'Un adieu, un au revoir lyrics de Alain Morisod & Sweet People genre = pop',\n",
              " 'Amour secret lyrics de Hélène Rollès genre = pop',\n",
              " \"Une histoire d'amour lyrics de Mireille Mathieu genre = chanson francaise\",\n",
              " 'La vie est magnifique lyrics de Anna Karina genre = nan',\n",
              " 'Vivre pour le meilleur lyrics de Grégory Lemarchal genre = pop',\n",
              " \"Le bleu lumière [How Far I'll Go] lyrics de Moana (OST) genre = comedie musicale/film\",\n",
              " 'Ça va, ça vient lyrics de Vitaa genre = pop',\n",
              " 'Être et avoir lyrics de Zazie genre = pop,chanson francaise',\n",
              " \"Si tu savais lyrics de Shy'm genre = chanson francaise\",\n",
              " \"Bien après l'au-delà lyrics de Cléopâtre, la dernière reine d'Égypte (comédie musicale) genre = comedie musicale/film\",\n",
              " 'Crash me lyrics de Indochine genre = pop,rock,chanson francaise',\n",
              " 'Seras-tu là ? lyrics de Michel Berger genre = pop,chanson francaise',\n",
              " 'Embrasse-moi lyrics de Édith Piaf genre = chanson francaise',\n",
              " 'Quand vient la nuit lyrics de Artesia genre = nan',\n",
              " 'Poème à mon frère blanc lyrics de Léopold Sédar Senghor genre = nan',\n",
              " 'Fou lyrics de Olivier Dion genre = nan',\n",
              " \"Duo du désespoir lyrics de Roméo et Juliette, de la haine à l'amour (musical) genre = comedie musicale/film\",\n",
              " 'Adora lyrics de Indochine genre = pop,rock,chanson francaise',\n",
              " 'Black Page lyrics de Indochine genre = pop,rock,chanson francaise',\n",
              " 'Nils Holgersson lyrics de The Wonderful Adventures of Nils (OST) genre = comedie musicale/film',\n",
              " 'Du plaisir lyrics de Don Juan (comédie musicale) genre = comedie musicale/film',\n",
              " 'Savoir qui je suis lyrics de Lââm genre = nan']"
            ]
          },
          "metadata": {},
          "execution_count": 78
        }
      ]
    },
    {
      "cell_type": "code",
      "source": [
        "top_hard = pd.merge(df_medium[0:150], df_hardest[0:200], on= ['title', 'artist', 'genre'], how='outer', indicator = True).query('_merge==\"right_only\"')\n",
        "top_50_B = []\n",
        "for x in range(50):\n",
        "  title = top_hard.iloc[x]['title']\n",
        "  artiste = top_hard.iloc[x]['artist']\n",
        "  genre = top_hard.iloc[x]['genre']\n",
        "  top_50_B.append(str(title) + \" de \" + str(artiste) + \" genre = \" + str(genre))\n",
        "\n",
        "top_50_B"
      ],
      "metadata": {
        "colab": {
          "base_uri": "https://localhost:8080/"
        },
        "id": "8OMvQoE3fthO",
        "outputId": "b05b18cb-4f83-4918-819a-d9b10e6ef385"
      },
      "execution_count": 85,
      "outputs": [
        {
          "output_type": "execute_result",
          "data": {
            "text/plain": [
              "['Ne partez pas sans moi lyrics de Céline Dion genre = pop,chanson francaise',\n",
              " 'Si la vie est cadeau lyrics de Corinne Hermès genre = nan',\n",
              " 'Mon Dieu lyrics de Édith Piaf genre = chanson francaise',\n",
              " 'La taille de mon âme lyrics de Daniel Darc genre = nan',\n",
              " 'Maman me dit lyrics de Angélina (France) genre = nan',\n",
              " 'Écoutez le cœur des gens lyrics de Daniel B genre = nan',\n",
              " 'Un ange est tombé lyrics de Lara Fabian genre = pop',\n",
              " 'Ce que je sais lyrics de Johnny Hallyday genre = pop,rock',\n",
              " 'Pourquoi tu vis et où tu vas lyrics de Jeanette genre = nan',\n",
              " 'Open My Eyes lyrics de Reuben Morgan genre = nan',\n",
              " 'Ma référence lyrics de Jena Lee genre = pop',\n",
              " 'Le verger aux petits lyrics de Bastien Lallemant genre = chanson francaise',\n",
              " 'La Même Histoire lyrics de Feist genre = nan',\n",
              " \"Celle qui m'a tout appris lyrics de Céline Dion genre = pop,chanson francaise\",\n",
              " \"Répondez-moi lyrics de Gjon's Tears genre = nan\",\n",
              " 'Les neiges du Kilimanjaro lyrics de Pascal Danel genre = nan',\n",
              " \"Faut recommencer lyrics de Shy'm genre = chanson francaise\",\n",
              " \"Histoire d'un amour (Historia de un amor) lyrics de Dalida genre = pop\",\n",
              " 'Mon Amour lyrics de Ben l’Oncle Soul genre = nan',\n",
              " 'Tu respires lyrics de Superbus genre = pop,rock,chanson francaise',\n",
              " 'Par amour lyrics de Lara Fabian genre = pop',\n",
              " 'Les sans-papiers lyrics de Notre-Dame de Paris (Musical) genre = comedie musicale/film',\n",
              " '07 Dec. lyrics de Zazie genre = pop,chanson francaise',\n",
              " 'Qui prendra ma place? lyrics de Marie-Mai genre = pop',\n",
              " 'Tu oublieras mon nom lyrics de Cœur de pirate genre = pop',\n",
              " 'Les étrangers lyrics de Enrico Macias genre = chanson francaise',\n",
              " 'Ma gueule lyrics de Johnny Hallyday genre = pop,rock',\n",
              " 'Tous les deux lyrics de Seemone genre = nan',\n",
              " 'On avance lyrics de Tal genre = pop',\n",
              " 'Tourner dans le vide lyrics de Indila genre = pop',\n",
              " 'Il faut savoir lyrics de Charles Aznavour genre = pop,chanson francaise',\n",
              " \"Mon monde lyrics de Anna Roig i L'ombre de ton chien genre = nan\",\n",
              " 'Je suis le même lyrics de Garou genre = pop,chanson francaise',\n",
              " 'Je suis malade lyrics de Dalida genre = pop',\n",
              " \"Pour que tu m'aimes encore lyrics de Céline Dion genre = pop,chanson francaise\",\n",
              " 'Mentir lyrics de Marie-Mai genre = pop',\n",
              " 'Mon petit chat lyrics de Maurice Carême genre = nan',\n",
              " 'Plus bleu que tes yeux lyrics de Édith Piaf genre = chanson francaise',\n",
              " 'Je suis malade lyrics de Serge Lama genre = nan',\n",
              " 'Que Sais-Tu De Moi lyrics de Claude Barzotti genre = chanson francaise',\n",
              " \"Si tu l'avoues lyrics de Anggun genre = pop,rock\",\n",
              " 'Sur les quais lyrics de Les Discrets genre = rock',\n",
              " \"La maladie d'amour lyrics de Michel Sardou genre = pop\",\n",
              " \"L'effet de masse lyrics de Maëlle genre = nan\",\n",
              " 'Corazón [Proud Corazón] lyrics de Coco (OST) genre = comedie musicale/film',\n",
              " \"Loin d'ici lyrics de Cœur de pirate genre = pop\",\n",
              " 'Song for Mountains lyrics de Les Discrets genre = rock',\n",
              " 'Tais-toi mon cœur lyrics de Dionysos genre = rock,chanson francaise',\n",
              " 'Un autre monde lyrics de Téléphone genre = rock,chanson francaise',\n",
              " 'Ton corps lyrics de Marc-Antoine genre = pop']"
            ]
          },
          "metadata": {},
          "execution_count": 85
        }
      ]
    },
    {
      "cell_type": "code",
      "execution_count": 86,
      "metadata": {
        "id": "_iMs0cHdYX3J"
      },
      "outputs": [],
      "source": [
        "df_most_A = df_complete.sort_values(\"A\", ascending=False)"
      ]
    },
    {
      "cell_type": "code",
      "execution_count": 97,
      "metadata": {
        "id": "_ONU6zLSbbN3"
      },
      "outputs": [],
      "source": [
        "df_complete[\"A_round\"] = df_complete['A'].apply(round)\n",
        "df_complete[\"AB_round\"] = df_complete['A + B'].apply(round)"
      ]
    },
    {
      "cell_type": "code",
      "execution_count": 98,
      "metadata": {
        "id": "8NXvwDdbbR-Z"
      },
      "outputs": [],
      "source": [
        "df_count_A = df_complete.groupby(\"A_round\")['title'].count()\n",
        "df_count_AB = df_complete.groupby(\"AB_round\")['title'].count()"
      ]
    },
    {
      "cell_type": "code",
      "execution_count": 99,
      "metadata": {
        "colab": {
          "base_uri": "https://localhost:8080/",
          "height": 443
        },
        "id": "KstsvHF9aqtb",
        "outputId": "6018e369-9364-46c7-b87b-45ac69b5c6d2"
      },
      "outputs": [
        {
          "output_type": "display_data",
          "data": {
            "text/plain": [
              "<Figure size 1008x576 with 1 Axes>"
            ],
            "image/png": "[encoded data removed]"
          },
          "metadata": {}
        }
      ],
      "source": [
        "#Number of songs per percentage of A \n",
        "sns.set_style(\"whitegrid\")\n",
        "fig, ax = plt.subplots(figsize=(14, 8))\n",
        "ax1 = sns.scatterplot(data=df_count_A, s=100, ax=ax, palette=\"deep\", label='A level')\n",
        "ax2 = sns.scatterplot(data=df_count_AB, s=100, ax=ax, palette=\"deep\", label='A + B level')\n",
        "plt.legend(loc='upper left');\n",
        "plt.xlabel('Level coverage')\n",
        "plt.ylabel('number of songs')\n",
        "plt.show()"
      ]
    },
    {
      "cell_type": "code",
      "source": [
        "df_complete"
      ],
      "metadata": {
        "colab": {
          "base_uri": "https://localhost:8080/",
          "height": 1000
        },
        "id": "J2Q78tySSIIv",
        "outputId": "c7018dd5-5a01-48a9-898f-ebb425afa795"
      },
      "execution_count": 100,
      "outputs": [
        {
          "output_type": "execute_result",
          "data": {
            "text/plain": [
              "               artist                                   title  \\\n",
              "0       Willy William                              Ego lyrics   \n",
              "1              Indila                   Dernière danse lyrics   \n",
              "2                 Zaz                          Je veux lyrics   \n",
              "3         Carla Bruni                Quelqu'un m'a dit lyrics   \n",
              "4             Stromae                       Formidable lyrics   \n",
              "...               ...                                     ...   \n",
              "4627               L5                      Deconnecter lyrics   \n",
              "4628   Francis Cabrel             Le temps s'en allait lyrics   \n",
              "4629       Édith Piaf  C'est lui que mon cœur a choisi lyrics   \n",
              "4630  Tereza Kesovija           Quand j'irai vers l'or lyrics   \n",
              "4631           Alizée             L'e-mail a des ailes lyrics   \n",
              "\n",
              "                                          album                  genre  \\\n",
              "0              Album: Une seule vie (Collector)                electro   \n",
              "1                      Album: Mini World (2014)                    pop   \n",
              "2                             Album: Zaz (2010)                    pop   \n",
              "3               Album: Quelqu'un m'a dit (2002)  pop,chanson francaise   \n",
              "4                          Racine carrée (2013)            pop,electro   \n",
              "...                                         ...                    ...   \n",
              "4627                                        NaN                    pop   \n",
              "4628                                        NaN  pop,chanson francaise   \n",
              "4629                                        NaN      chanson francaise   \n",
              "4630                                        NaN                    NaN   \n",
              "4631  Album: Mes courants électriques... (2003)  pop,chanson francaise   \n",
              "\n",
              "                                                   text  word_count  \\\n",
              "0     Miroir  Dis moi qui est le plus beau  Quitte à...         174   \n",
              "1     Oh ma douce souffrance   Pourquoi s’acharner t...         266   \n",
              "2     Donnez moi une suite au Ritz  je n en veux pas...         211   \n",
              "3     On me dit que nos vies ne valent pas grand cho...         198   \n",
              "4     Tu étais formidable  j étais fort minable Nous...         313   \n",
              "...                                                 ...         ...   \n",
              "4627  Est ce qu il faut que je signe de longs contra...         228   \n",
              "4628  Ce matin j ai joué aux billes  J ai couru les ...         371   \n",
              "4629  Je m rappelle plus comment on s était rencontr...         347   \n",
              "4630  Y aura des poissons d argents plein les rivièr...         302   \n",
              "4631  Tout est écrit  Mais ma vie est l unique  C es...         124   \n",
              "\n",
              "                                             lemmatized  \\\n",
              "0     [miroir,  , dire, moi, qui, être, le, plus, be...   \n",
              "1     [Oh, mon, doux, souffrance,   , pourquoi, s’, ...   \n",
              "2     [donner, moi, un, suite, au, Ritz,  , je, n, e...   \n",
              "3     [on, me, dire, que, notre, vie, ne, valoir, pa...   \n",
              "4     [tu, être, formidable,  , j, être, fort, minab...   \n",
              "...                                                 ...   \n",
              "4627  [être, ce, qu, il, falloir, que, je, signe, de...   \n",
              "4628  [ce, matin, j, avoir, jouer, à, bille,  , j, a...   \n",
              "4629  [je, m, rappeler, plus, comment, on, s, être, ...   \n",
              "4630  [y, avoir, un, poisson, d, argent, plein, le, ...   \n",
              "4631  [tout, être, écrire,  , mais, mon, vie, être, ...   \n",
              "\n",
              "                                             normalised         A1         A2  \\\n",
              "0     miroir   dire moi qui être le plus beau   quit...  66.091954   6.321839   \n",
              "1     Oh mon doux souffrance    pourquoi s’ acharner...  64.285714  10.526316   \n",
              "2     donner moi un suite au Ritz   je n en vouloir ...  68.246445  11.374408   \n",
              "3     on me dire que notre vie ne valoir pas grand c...  72.222222   7.575758   \n",
              "4     tu être formidable   j être fort minable nous ...  61.661342   5.431310   \n",
              "...                                                 ...        ...        ...   \n",
              "4627  être ce qu il falloir que je signe de long con...  67.543860   6.578947   \n",
              "4628  ce matin j avoir jouer à bille   j avoir couri...  69.811321   6.738544   \n",
              "4629  je m rappeler plus comment on s être rencontre...  63.976945   7.204611   \n",
              "4630  y avoir un poisson d argent plein le rivière  ...  49.337748  14.569536   \n",
              "4631  tout être écrire   mais mon vie être l unique ...  51.612903  13.709677   \n",
              "\n",
              "            B1         B2          A      A + B  A_round  AB_round  \n",
              "0     4.022989   2.298851  72.413793  78.735632       72        79  \n",
              "1     1.127820   9.774436  74.812030  85.714286       75        86  \n",
              "2     3.791469   3.317536  79.620853  86.729858       80        87  \n",
              "3     1.515152   2.020202  79.797980  83.333333       80        83  \n",
              "4     1.916933  14.376997  67.092652  83.386581       67        83  \n",
              "...        ...        ...        ...        ...      ...       ...  \n",
              "4627  0.877193   1.315789  74.122807  76.315789       74        76  \n",
              "4628  3.504043   1.078167  76.549865  81.132075       77        81  \n",
              "4629  4.899135   0.000000  71.181556  76.080692       71        76  \n",
              "4630  9.271523   4.966887  63.907285  78.145695       64        78  \n",
              "4631  2.419355   2.419355  65.322581  70.161290       65        70  \n",
              "\n",
              "[4632 rows x 16 columns]"
            ],
            "text/html": [
              "\n",
              "  <div id=\"df-4159db9f-ff61-4e83-a35d-255a24c1c1e2\">\n",
              "    <div class=\"colab-df-container\">\n",
              "      <div>\n",
              "<style scoped>\n",
              "    .dataframe tbody tr th:only-of-type {\n",
              "        vertical-align: middle;\n",
              "    }\n",
              "\n",
              "    .dataframe tbody tr th {\n",
              "        vertical-align: top;\n",
              "    }\n",
              "\n",
              "    .dataframe thead th {\n",
              "        text-align: right;\n",
              "    }\n",
              "</style>\n",
              "<table border=\"1\" class=\"dataframe\">\n",
              "  <thead>\n",
              "    <tr style=\"text-align: right;\">\n",
              "      <th></th>\n",
              "      <th>artist</th>\n",
              "      <th>title</th>\n",
              "      <th>album</th>\n",
              "      <th>genre</th>\n",
              "      <th>text</th>\n",
              "      <th>word_count</th>\n",
              "      <th>lemmatized</th>\n",
              "      <th>normalised</th>\n",
              "      <th>A1</th>\n",
              "      <th>A2</th>\n",
              "      <th>B1</th>\n",
              "      <th>B2</th>\n",
              "      <th>A</th>\n",
              "      <th>A + B</th>\n",
              "      <th>A_round</th>\n",
              "      <th>AB_round</th>\n",
              "    </tr>\n",
              "  </thead>\n",
              "  <tbody>\n",
              "    <tr>\n",
              "      <th>0</th>\n",
              "      <td>Willy William</td>\n",
              "      <td>Ego lyrics</td>\n",
              "      <td>Album: Une seule vie (Collector)</td>\n",
              "      <td>electro</td>\n",
              "      <td>Miroir  Dis moi qui est le plus beau  Quitte à...</td>\n",
              "      <td>174</td>\n",
              "      <td>[miroir,  , dire, moi, qui, être, le, plus, be...</td>\n",
              "      <td>miroir   dire moi qui être le plus beau   quit...</td>\n",
              "      <td>66.091954</td>\n",
              "      <td>6.321839</td>\n",
              "      <td>4.022989</td>\n",
              "      <td>2.298851</td>\n",
              "      <td>72.413793</td>\n",
              "      <td>78.735632</td>\n",
              "      <td>72</td>\n",
              "      <td>79</td>\n",
              "    </tr>\n",
              "    <tr>\n",
              "      <th>1</th>\n",
              "      <td>Indila</td>\n",
              "      <td>Dernière danse lyrics</td>\n",
              "      <td>Album: Mini World (2014)</td>\n",
              "      <td>pop</td>\n",
              "      <td>Oh ma douce souffrance   Pourquoi s’acharner t...</td>\n",
              "      <td>266</td>\n",
              "      <td>[Oh, mon, doux, souffrance,   , pourquoi, s’, ...</td>\n",
              "      <td>Oh mon doux souffrance    pourquoi s’ acharner...</td>\n",
              "      <td>64.285714</td>\n",
              "      <td>10.526316</td>\n",
              "      <td>1.127820</td>\n",
              "      <td>9.774436</td>\n",
              "      <td>74.812030</td>\n",
              "      <td>85.714286</td>\n",
              "      <td>75</td>\n",
              "      <td>86</td>\n",
              "    </tr>\n",
              "    <tr>\n",
              "      <th>2</th>\n",
              "      <td>Zaz</td>\n",
              "      <td>Je veux lyrics</td>\n",
              "      <td>Album: Zaz (2010)</td>\n",
              "      <td>pop</td>\n",
              "      <td>Donnez moi une suite au Ritz  je n en veux pas...</td>\n",
              "      <td>211</td>\n",
              "      <td>[donner, moi, un, suite, au, Ritz,  , je, n, e...</td>\n",
              "      <td>donner moi un suite au Ritz   je n en vouloir ...</td>\n",
              "      <td>68.246445</td>\n",
              "      <td>11.374408</td>\n",
              "      <td>3.791469</td>\n",
              "      <td>3.317536</td>\n",
              "      <td>79.620853</td>\n",
              "      <td>86.729858</td>\n",
              "      <td>80</td>\n",
              "      <td>87</td>\n",
              "    </tr>\n",
              "    <tr>\n",
              "      <th>3</th>\n",
              "      <td>Carla Bruni</td>\n",
              "      <td>Quelqu'un m'a dit lyrics</td>\n",
              "      <td>Album: Quelqu'un m'a dit (2002)</td>\n",
              "      <td>pop,chanson francaise</td>\n",
              "      <td>On me dit que nos vies ne valent pas grand cho...</td>\n",
              "      <td>198</td>\n",
              "      <td>[on, me, dire, que, notre, vie, ne, valoir, pa...</td>\n",
              "      <td>on me dire que notre vie ne valoir pas grand c...</td>\n",
              "      <td>72.222222</td>\n",
              "      <td>7.575758</td>\n",
              "      <td>1.515152</td>\n",
              "      <td>2.020202</td>\n",
              "      <td>79.797980</td>\n",
              "      <td>83.333333</td>\n",
              "      <td>80</td>\n",
              "      <td>83</td>\n",
              "    </tr>\n",
              "    <tr>\n",
              "      <th>4</th>\n",
              "      <td>Stromae</td>\n",
              "      <td>Formidable lyrics</td>\n",
              "      <td>Racine carrée (2013)</td>\n",
              "      <td>pop,electro</td>\n",
              "      <td>Tu étais formidable  j étais fort minable Nous...</td>\n",
              "      <td>313</td>\n",
              "      <td>[tu, être, formidable,  , j, être, fort, minab...</td>\n",
              "      <td>tu être formidable   j être fort minable nous ...</td>\n",
              "      <td>61.661342</td>\n",
              "      <td>5.431310</td>\n",
              "      <td>1.916933</td>\n",
              "      <td>14.376997</td>\n",
              "      <td>67.092652</td>\n",
              "      <td>83.386581</td>\n",
              "      <td>67</td>\n",
              "      <td>83</td>\n",
              "    </tr>\n",
              "    <tr>\n",
              "      <th>...</th>\n",
              "      <td>...</td>\n",
              "      <td>...</td>\n",
              "      <td>...</td>\n",
              "      <td>...</td>\n",
              "      <td>...</td>\n",
              "      <td>...</td>\n",
              "      <td>...</td>\n",
              "      <td>...</td>\n",
              "      <td>...</td>\n",
              "      <td>...</td>\n",
              "      <td>...</td>\n",
              "      <td>...</td>\n",
              "      <td>...</td>\n",
              "      <td>...</td>\n",
              "      <td>...</td>\n",
              "      <td>...</td>\n",
              "    </tr>\n",
              "    <tr>\n",
              "      <th>4627</th>\n",
              "      <td>L5</td>\n",
              "      <td>Deconnecter lyrics</td>\n",
              "      <td>NaN</td>\n",
              "      <td>pop</td>\n",
              "      <td>Est ce qu il faut que je signe de longs contra...</td>\n",
              "      <td>228</td>\n",
              "      <td>[être, ce, qu, il, falloir, que, je, signe, de...</td>\n",
              "      <td>être ce qu il falloir que je signe de long con...</td>\n",
              "      <td>67.543860</td>\n",
              "      <td>6.578947</td>\n",
              "      <td>0.877193</td>\n",
              "      <td>1.315789</td>\n",
              "      <td>74.122807</td>\n",
              "      <td>76.315789</td>\n",
              "      <td>74</td>\n",
              "      <td>76</td>\n",
              "    </tr>\n",
              "    <tr>\n",
              "      <th>4628</th>\n",
              "      <td>Francis Cabrel</td>\n",
              "      <td>Le temps s'en allait lyrics</td>\n",
              "      <td>NaN</td>\n",
              "      <td>pop,chanson francaise</td>\n",
              "      <td>Ce matin j ai joué aux billes  J ai couru les ...</td>\n",
              "      <td>371</td>\n",
              "      <td>[ce, matin, j, avoir, jouer, à, bille,  , j, a...</td>\n",
              "      <td>ce matin j avoir jouer à bille   j avoir couri...</td>\n",
              "      <td>69.811321</td>\n",
              "      <td>6.738544</td>\n",
              "      <td>3.504043</td>\n",
              "      <td>1.078167</td>\n",
              "      <td>76.549865</td>\n",
              "      <td>81.132075</td>\n",
              "      <td>77</td>\n",
              "      <td>81</td>\n",
              "    </tr>\n",
              "    <tr>\n",
              "      <th>4629</th>\n",
              "      <td>Édith Piaf</td>\n",
              "      <td>C'est lui que mon cœur a choisi lyrics</td>\n",
              "      <td>NaN</td>\n",
              "      <td>chanson francaise</td>\n",
              "      <td>Je m rappelle plus comment on s était rencontr...</td>\n",
              "      <td>347</td>\n",
              "      <td>[je, m, rappeler, plus, comment, on, s, être, ...</td>\n",
              "      <td>je m rappeler plus comment on s être rencontre...</td>\n",
              "      <td>63.976945</td>\n",
              "      <td>7.204611</td>\n",
              "      <td>4.899135</td>\n",
              "      <td>0.000000</td>\n",
              "      <td>71.181556</td>\n",
              "      <td>76.080692</td>\n",
              "      <td>71</td>\n",
              "      <td>76</td>\n",
              "    </tr>\n",
              "    <tr>\n",
              "      <th>4630</th>\n",
              "      <td>Tereza Kesovija</td>\n",
              "      <td>Quand j'irai vers l'or lyrics</td>\n",
              "      <td>NaN</td>\n",
              "      <td>NaN</td>\n",
              "      <td>Y aura des poissons d argents plein les rivièr...</td>\n",
              "      <td>302</td>\n",
              "      <td>[y, avoir, un, poisson, d, argent, plein, le, ...</td>\n",
              "      <td>y avoir un poisson d argent plein le rivière  ...</td>\n",
              "      <td>49.337748</td>\n",
              "      <td>14.569536</td>\n",
              "      <td>9.271523</td>\n",
              "      <td>4.966887</td>\n",
              "      <td>63.907285</td>\n",
              "      <td>78.145695</td>\n",
              "      <td>64</td>\n",
              "      <td>78</td>\n",
              "    </tr>\n",
              "    <tr>\n",
              "      <th>4631</th>\n",
              "      <td>Alizée</td>\n",
              "      <td>L'e-mail a des ailes lyrics</td>\n",
              "      <td>Album: Mes courants électriques... (2003)</td>\n",
              "      <td>pop,chanson francaise</td>\n",
              "      <td>Tout est écrit  Mais ma vie est l unique  C es...</td>\n",
              "      <td>124</td>\n",
              "      <td>[tout, être, écrire,  , mais, mon, vie, être, ...</td>\n",
              "      <td>tout être écrire   mais mon vie être l unique ...</td>\n",
              "      <td>51.612903</td>\n",
              "      <td>13.709677</td>\n",
              "      <td>2.419355</td>\n",
              "      <td>2.419355</td>\n",
              "      <td>65.322581</td>\n",
              "      <td>70.161290</td>\n",
              "      <td>65</td>\n",
              "      <td>70</td>\n",
              "    </tr>\n",
              "  </tbody>\n",
              "</table>\n",
              "<p>4632 rows × 16 columns</p>\n",
              "</div>\n",
              "      <button class=\"colab-df-convert\" onclick=\"convertToInteractive('df-4159db9f-ff61-4e83-a35d-255a24c1c1e2')\"\n",
              "              title=\"Convert this dataframe to an interactive table.\"\n",
              "              style=\"display:none;\">\n",
              "        \n",
              "  <svg xmlns=\"http://www.w3.org/2000/svg\" height=\"24px\"viewBox=\"0 0 24 24\"\n",
              "       width=\"24px\">\n",
              "    <path d=\"M0 0h24v24H0V0z\" fill=\"none\"/>\n",
              "    <path d=\"M18.56 5.44l.94 2.06.94-2.06 2.06-.94-2.06-.94-.94-2.06-.94 2.06-2.06.94zm-11 1L8.5 8.5l.94-2.06 2.06-.94-2.06-.94L8.5 2.5l-.94 2.06-2.06.94zm10 10l.94 2.06.94-2.06 2.06-.94-2.06-.94-.94-2.06-.94 2.06-2.06.94z\"/><path d=\"M17.41 7.96l-1.37-1.37c-.4-.4-.92-.59-1.43-.59-.52 0-1.04.2-1.43.59L10.3 9.45l-7.72 7.72c-.78.78-.78 2.05 0 2.83L4 21.41c.39.39.9.59 1.41.59.51 0 1.02-.2 1.41-.59l7.78-7.78 2.81-2.81c.8-.78.8-2.07 0-2.86zM5.41 20L4 18.59l7.72-7.72 1.47 1.35L5.41 20z\"/>\n",
              "  </svg>\n",
              "      </button>\n",
              "      \n",
              "  <style>\n",
              "    .colab-df-container {\n",
              "      display:flex;\n",
              "      flex-wrap:wrap;\n",
              "      gap: 12px;\n",
              "    }\n",
              "\n",
              "    .colab-df-convert {\n",
              "      background-color: #E8F0FE;\n",
              "      border: none;\n",
              "      border-radius: 50%;\n",
              "      cursor: pointer;\n",
              "      display: none;\n",
              "      fill: #1967D2;\n",
              "      height: 32px;\n",
              "      padding: 0 0 0 0;\n",
              "      width: 32px;\n",
              "    }\n",
              "\n",
              "    .colab-df-convert:hover {\n",
              "      background-color: #E2EBFA;\n",
              "      box-shadow: 0px 1px 2px rgba(60, 64, 67, 0.3), 0px 1px 3px 1px rgba(60, 64, 67, 0.15);\n",
              "      fill: #174EA6;\n",
              "    }\n",
              "\n",
              "    [theme=dark] .colab-df-convert {\n",
              "      background-color: #3B4455;\n",
              "      fill: #D2E3FC;\n",
              "    }\n",
              "\n",
              "    [theme=dark] .colab-df-convert:hover {\n",
              "      background-color: #434B5C;\n",
              "      box-shadow: 0px 1px 3px 1px rgba(0, 0, 0, 0.15);\n",
              "      filter: drop-shadow(0px 1px 2px rgba(0, 0, 0, 0.3));\n",
              "      fill: #FFFFFF;\n",
              "    }\n",
              "  </style>\n",
              "\n",
              "      <script>\n",
              "        const buttonEl =\n",
              "          document.querySelector('#df-4159db9f-ff61-4e83-a35d-255a24c1c1e2 button.colab-df-convert');\n",
              "        buttonEl.style.display =\n",
              "          google.colab.kernel.accessAllowed ? 'block' : 'none';\n",
              "\n",
              "        async function convertToInteractive(key) {\n",
              "          const element = document.querySelector('#df-4159db9f-ff61-4e83-a35d-255a24c1c1e2');\n",
              "          const dataTable =\n",
              "            await google.colab.kernel.invokeFunction('convertToInteractive',\n",
              "                                                     [key], {});\n",
              "          if (!dataTable) return;\n",
              "\n",
              "          const docLinkHtml = 'Like what you see? Visit the ' +\n",
              "            '<a target=\"_blank\" href=https://colab.research.google.com/notebooks/data_table.ipynb>data table notebook</a>'\n",
              "            + ' to learn more about interactive tables.';\n",
              "          element.innerHTML = '';\n",
              "          dataTable['output_type'] = 'display_data';\n",
              "          await google.colab.output.renderOutput(dataTable, element);\n",
              "          const docLink = document.createElement('div');\n",
              "          docLink.innerHTML = docLinkHtml;\n",
              "          element.appendChild(docLink);\n",
              "        }\n",
              "      </script>\n",
              "    </div>\n",
              "  </div>\n",
              "  "
            ]
          },
          "metadata": {},
          "execution_count": 100
        }
      ]
    },
    {
      "cell_type": "markdown",
      "source": [
        "# Classification by artists"
      ],
      "metadata": {
        "id": "g4QHqsTn_yeB"
      }
    },
    {
      "cell_type": "code",
      "source": [
        "level_artist_rank = df_complete.groupby('artist')[\"A + B\"].mean().sort_values()"
      ],
      "metadata": {
        "id": "MJiDiXT4_1pF"
      },
      "execution_count": 101,
      "outputs": []
    },
    {
      "cell_type": "code",
      "source": [
        "level_artist_rank.sort_values(ascending=False)[0:50]"
      ],
      "metadata": {
        "colab": {
          "base_uri": "https://localhost:8080/"
        },
        "id": "kRsXxwBV_7Hu",
        "outputId": "ab90cbf0-2e1b-4717-ad2e-ba8c8587c21a"
      },
      "execution_count": 103,
      "outputs": [
        {
          "output_type": "execute_result",
          "data": {
            "text/plain": [
              "artist\n",
              "Patrick Watson                            100.000000\n",
              "Andrée Watters                             99.319728\n",
              "Corinne Hermès                             98.709677\n",
              "Daniel Darc                                98.324022\n",
              "Daniel B                                   98.214286\n",
              "Anne-Marie David                           97.794118\n",
              "Reuben Morgan                              97.402597\n",
              "Bastien Lallemant                          97.142857\n",
              "Feist                                      97.037037\n",
              "Léopold Sédar Senghor                      96.078431\n",
              "Seemone                                    95.721925\n",
              "Maëlle                                     94.849785\n",
              "Claire Pérot                               94.736842\n",
              "Olivier Dion                               94.654528\n",
              "Jean-Claude Pascal                         94.545455\n",
              "Donny Montell                              94.535519\n",
              "Marc Dupré                                 94.439416\n",
              "Aliose                                     94.416244\n",
              "Sébastien Perrin                           94.318182\n",
              "The Wonderful Adventures of Nils (OST)     94.000000\n",
              "Il Volo                                    93.782383\n",
              "Sorel                                      93.750000\n",
              "Madame Monsieur                            93.750000\n",
              "Haris Alexiou                              93.714286\n",
              "The Civil Wars                             93.636364\n",
              "2Be3                                       93.564356\n",
              "Jean-Philippe Rameau                       93.478261\n",
              "Géraldine Nakache & Leïla Bekhti           93.355482\n",
              "Artesia                                    93.350449\n",
              "Vivons en enfant de lumière                93.181818\n",
              "Michel Laurent                             93.181818\n",
              "Allena                                     93.157895\n",
              "Barış Manço                                93.076923\n",
              "Banda Magda                                93.006993\n",
              "Gjon's Tears                               92.971429\n",
              "Mickey 3D                                  92.857143\n",
              "Jérémy Frerot                              92.733564\n",
              "Amylie                                     92.675745\n",
              "Jordy                                      92.631579\n",
              "Violetta (OST)                             92.592593\n",
              "Steve Waring                               92.500000\n",
              "Stéphane Quéry                             92.272727\n",
              "Lisa Angell                                92.270531\n",
              "Dumas                                      92.187500\n",
              "Antsa & Mendrika                           92.063492\n",
              "Cirque du Soleil                           92.052980\n",
              "Anna Karina                                91.860465\n",
              "Jean d'Ormesson                            91.836735\n",
              "Nicole                                     91.634981\n",
              "Daniel Guichard                            91.254753\n",
              "Name: A + B, dtype: float64"
            ]
          },
          "metadata": {},
          "execution_count": 103
        }
      ]
    },
    {
      "cell_type": "markdown",
      "source": [
        "# Classification by genre \n",
        "Trying to figure out what genre are easiest to learn. "
      ],
      "metadata": {
        "id": "2noP_a-hjrne"
      }
    },
    {
      "cell_type": "code",
      "source": [
        "level_genre_rank = df_complete.groupby('genre')[\"A + B\"].mean().sort_values()"
      ],
      "metadata": {
        "id": "bNaKlrsNsT_W"
      },
      "execution_count": 104,
      "outputs": []
    },
    {
      "cell_type": "code",
      "source": [
        "level_genre_rank.plot(kind='bar', figsize=(15, 8))\n",
        "plt.xlabel('Genre')\n",
        "plt.ylabel('Average A1 to B2 level coverage')\n",
        "plt.show()"
      ],
      "metadata": {
        "colab": {
          "base_uri": "https://localhost:8080/",
          "height": 581
        },
        "id": "q0s-IfWysnU2",
        "outputId": "499a5cff-cfdf-425d-f332-3cc06c32147d"
      },
      "execution_count": 112,
      "outputs": [
        {
          "output_type": "display_data",
          "data": {
            "text/plain": [
              "<Figure size 1080x576 with 1 Axes>"
            ],
            "image/png": "[encoded data removed]"
          },
          "metadata": {}
        }
      ]
    },
    {
      "cell_type": "code",
      "source": [
        "levelB2_genre_rank = df_complete.groupby('genre')[\"B2\"].mean().sort_values()\n",
        "levelB2_genre_rank.plot(kind='bar', figsize=(15, 8))"
      ],
      "metadata": {
        "colab": {
          "base_uri": "https://localhost:8080/",
          "height": 617
        },
        "id": "IYeF7QA9tE_M",
        "outputId": "6bc43339-2450-452e-85d5-ce2d25fc009c"
      },
      "execution_count": 106,
      "outputs": [
        {
          "output_type": "execute_result",
          "data": {
            "text/plain": [
              "<matplotlib.axes._subplots.AxesSubplot at 0x7ff559f56910>"
            ]
          },
          "metadata": {},
          "execution_count": 106
        },
        {
          "output_type": "display_data",
          "data": {
            "text/plain": [
              "<Figure size 1080x576 with 1 Axes>"
            ],
            "image/png": "[encoded data removed]"
          },
          "metadata": {}
        }
      ]
    },
    {
      "cell_type": "code",
      "source": [
        "df_complete_graph = df_complete[['artist', 'title', 'genre', 'A', 'A + B']]\n",
        "df_complete_graph.to_csv(\"df_complete_graph.csv\")"
      ],
      "metadata": {
        "id": "E2PKHFjhDt6j"
      },
      "execution_count": 108,
      "outputs": []
    },
    {
      "cell_type": "code",
      "source": [
        "df_complete.to_csv('df_complete.csv')"
      ],
      "metadata": {
        "id": "z-NZJrNPA5AV"
      },
      "execution_count": 110,
      "outputs": []
    }
  ],
  "metadata": {
    "colab": {
      "collapsed_sections": [],
      "name": "Chansons_final.ipynb",
      "provenance": [],
      "authorship_tag": "ABX9TyMDGLeRcZ6qoPGOjZp6xVU2",
      "include_colab_link": true
    },
    "kernelspec": {
      "display_name": "Python 3",
      "name": "python3"
    },
    "language_info": {
      "name": "python"
    }
  },
  "nbformat": 4,
  "nbformat_minor": 0
}
